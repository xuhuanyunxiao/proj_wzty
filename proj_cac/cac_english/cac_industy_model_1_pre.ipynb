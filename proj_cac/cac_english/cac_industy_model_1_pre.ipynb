{
 "cells": [
  {
   "cell_type": "markdown",
   "metadata": {},
   "source": [
    "- 西藏网信办 1 预处理"
   ]
  },
  {
   "cell_type": "markdown",
   "metadata": {},
   "source": [
    "# 基本设置"
   ]
  },
  {
   "cell_type": "code",
   "execution_count": 1,
   "metadata": {
    "ExecuteTime": {
     "end_time": "2018-10-25T08:58:56.500847Z",
     "start_time": "2018-10-25T08:58:55.735804Z"
    },
    "collapsed": true
   },
   "outputs": [],
   "source": [
    "import jieba\n",
    "import sys\n",
    "import re\n",
    "import time\n",
    "import string\n",
    "\n",
    "%matplotlib inline\n",
    "import numpy as np\n",
    "import pandas as pd\n",
    "# import pre_cor\n",
    "import os\n",
    "from sqlalchemy import create_engine\n",
    "from pandas.io import sql\n",
    "\n",
    "import warnings\n",
    "warnings.filterwarnings('ignore')"
   ]
  },
  {
   "cell_type": "code",
   "execution_count": 2,
   "metadata": {
    "ExecuteTime": {
     "end_time": "2018-10-25T08:58:56.528849Z",
     "start_time": "2018-10-25T08:58:56.504848Z"
    },
    "collapsed": true
   },
   "outputs": [],
   "source": [
    "def set_ch():\n",
    "    '''\n",
    "    功能：设定绘图时显示中文\n",
    "    '''\t\n",
    "    from pylab import mpl\n",
    "    mpl.rcParams['font.sans-serif'] = ['FangSong'] # 指定默认字体\n",
    "    mpl.rcParams['axes.unicode_minus'] = False   # 解决保存图像是负号'-'显示为方块的问题\n",
    "set_ch()"
   ]
  },
  {
   "cell_type": "code",
   "execution_count": 3,
   "metadata": {
    "ExecuteTime": {
     "end_time": "2018-10-25T08:58:56.609854Z",
     "start_time": "2018-10-25T08:58:56.538849Z"
    },
    "collapsed": true
   },
   "outputs": [],
   "source": [
    "def pre_save(pre_func, data, save_folder):\n",
    "    print(data.shape)\n",
    "    print('save_folder: ', save_folder)\n",
    "    \n",
    "    titles = pre_func(data['title'].tolist())\n",
    "    print('title num: ', len(titles))\n",
    "    save_filename = save_folder + 'corpus/titles.txt'\n",
    "    fid = open(save_filename, \"w+\", encoding='UTF-8')\n",
    "    for line in titles:\n",
    "        fid.write(line + '\\n')\n",
    "    fid.close()  \n",
    "    \n",
    "#     print(len(data['content'].tolist()))\n",
    "    contents = pre_func(data['content'].tolist())\n",
    "    print('content num: ', len(contents))\n",
    "    print(contents[0])\n",
    "    # contents = [re.sub(r'[a-z]*', '', x) for x in contents]\n",
    "    # print(len(contents))\n",
    "    # print(contents[:2])\n",
    "    coprus_save_filename = save_folder + 'corpus/contents.txt'\n",
    "    f = open(coprus_save_filename, \"w+\", encoding='UTF-8')\n",
    "    for line in contents:\n",
    "        f.write(line + '\\n')\n",
    "    f.close()    \n",
    "\n",
    "    label = data['label'].tolist()\n",
    "    print('label num: ', len(label))\n",
    "    coprus_save_filename = save_folder + 'corpus/labels.txt'\n",
    "    f = open(coprus_save_filename, \"w+\", encoding='UTF-8')\n",
    "    for line in label:\n",
    "        f.write(str(line) + '\\n')\n",
    "    f.close()\n",
    "\n",
    "    data.to_excel(save_folder + 'corpus/title_content_label.xlsx', index = False)\n",
    "    "
   ]
  },
  {
   "cell_type": "markdown",
   "metadata": {},
   "source": [
    "## 预处理设置"
   ]
  },
  {
   "cell_type": "code",
   "execution_count": 4,
   "metadata": {
    "ExecuteTime": {
     "end_time": "2018-10-25T08:58:57.373897Z",
     "start_time": "2018-10-25T08:58:56.612854Z"
    },
    "collapsed": true
   },
   "outputs": [],
   "source": [
    "import nltk\n",
    "from nltk.stem import WordNetLemmatizer\n",
    "from string import digits\n",
    "import re\n",
    "\n",
    "stopwords = {}\n",
    "stw = open(\"corpus/stopwords.txt\", encoding='UTF-8')\n",
    "for ws in stw:\n",
    "    ws = ws.replace(\"\\n\", \"\")\n",
    "    ws = ws.replace(\"\\r\", \"\")\n",
    "    stopwords[ws] = 1\n",
    "stw.close()"
   ]
  },
  {
   "cell_type": "code",
   "execution_count": 5,
   "metadata": {
    "ExecuteTime": {
     "end_time": "2018-10-25T08:58:57.399899Z",
     "start_time": "2018-10-25T08:58:57.378898Z"
    },
    "collapsed": true
   },
   "outputs": [],
   "source": [
    "def handle_contents(l_contents):\n",
    "    lines = []\n",
    "    for line in l_contents:\n",
    "        lines.append(handle_content(line))\n",
    "    return lines    "
   ]
  },
  {
   "cell_type": "code",
   "execution_count": 6,
   "metadata": {
    "ExecuteTime": {
     "end_time": "2018-10-25T08:58:57.537907Z",
     "start_time": "2018-10-25T08:58:57.405899Z"
    },
    "collapsed": true
   },
   "outputs": [],
   "source": [
    "def handle_content(content):\n",
    "    content = str(content)\n",
    "    raw = content.strip()\n",
    "    line = \"\"\n",
    "    if raw != \"\":       \n",
    "        # 1 清理字符串\n",
    "        content = clean_sent(content)\n",
    "\n",
    "        # 2 分句\n",
    "        sent_tokenize_list = nltk.sent_tokenize(content)\n",
    "        \n",
    "        # 3 清理句子\n",
    "        clean_sent_list = [clean_sent(sent) for sent in sent_tokenize_list]\n",
    "        \n",
    "        # 4 分词 \n",
    "        # 去掉长度小于3、去掉数字、去掉标点符号/去掉 non-alpha 词\n",
    "        word_tokenize_list = []\n",
    "        for sent in clean_sent_list:\n",
    "            word_t_l = filter(lambda x: len(x) > 3, map(clean_word, nltk.word_tokenize(sent)))\n",
    "            word_tokenize_list += list(word_t_l)\n",
    "        \n",
    "        # 5 清理词\n",
    "        # 去掉停用词、，小写化\n",
    "        word_list = [word.lower() for word in word_tokenize_list if word.lower() not in stopwords]\n",
    "        \n",
    "        # 6 词形还原\n",
    "        wnl = WordNetLemmatizer()\n",
    "        word_list = [wnl.lemmatize(word) for word in word_list]\n",
    "\n",
    "        line = \" \".join(word_list)\n",
    "    return line"
   ]
  },
  {
   "cell_type": "code",
   "execution_count": 7,
   "metadata": {
    "ExecuteTime": {
     "end_time": "2018-10-25T08:58:57.618911Z",
     "start_time": "2018-10-25T08:58:57.542907Z"
    },
    "collapsed": true
   },
   "outputs": [],
   "source": [
    "def clean_sent(sent):\n",
    "    sent = sent.replace(\"\\n\", \" \").replace('\\r',' ').replace('\\r\\n',' ')\n",
    "    sent = sent.replace('\\t', ' ').replace('\\xa0', ' ')\n",
    "    reobj = re.compile('//@(.*?)[:\\s]')\n",
    "    sent = reobj.sub(\"\", sent)\n",
    "    reobj = re.compile(\"@(.*?)[:\\s]\")\n",
    "    sent = reobj.sub(\"\", sent)\n",
    "    reobj = re.compile(r\"\\[[^\\[\\]]*?\\]\")\n",
    "    sent = reobj.sub(\"\", sent)\n",
    "\n",
    "    sent = sent.replace(\"，\", \",\")\n",
    "    sent = sent.replace(\"。\", \".\")\n",
    "    sent = sent.replace(\"！\", \"!\")\n",
    "    sent = sent.replace(\"？\", \"?\")\n",
    "    reobj = re.compile(\"//(.*?)[:\\s]\")\n",
    "    sent = reobj.sub(\"\", sent)\n",
    "    return sent"
   ]
  },
  {
   "cell_type": "code",
   "execution_count": 8,
   "metadata": {
    "ExecuteTime": {
     "end_time": "2018-10-25T08:58:57.759919Z",
     "start_time": "2018-10-25T08:58:57.621911Z"
    },
    "collapsed": true
   },
   "outputs": [],
   "source": [
    "def clean_word(s):  \n",
    "    # 去除标点和特殊字符、数字、汉字\n",
    "    regex = re.compile(r\"[^a-zA-Z]\")\n",
    "    s = regex.sub('', s)\n",
    "    \n",
    "    # 去除字符串中的数字 s = 'abc123def456ghi789zero0'\n",
    "    remove_digits = str.maketrans('', '', digits)\n",
    "    res = s.translate(remove_digits)\n",
    "    return res"
   ]
  },
  {
   "cell_type": "markdown",
   "metadata": {},
   "source": [
    "# 行业分类数据--网信办"
   ]
  },
  {
   "cell_type": "markdown",
   "metadata": {},
   "source": [
    "## 导入数据"
   ]
  },
  {
   "cell_type": "code",
   "execution_count": 9,
   "metadata": {
    "ExecuteTime": {
     "end_time": "2018-10-25T08:58:57.883926Z",
     "start_time": "2018-10-25T08:58:57.764920Z"
    },
    "collapsed": true
   },
   "outputs": [],
   "source": [
    "folder = 'industry_data/20180910' # 数据文件夹"
   ]
  },
  {
   "cell_type": "code",
   "execution_count": 10,
   "metadata": {
    "ExecuteTime": {
     "end_time": "2018-10-25T08:59:00.057051Z",
     "start_time": "2018-10-25T08:58:57.888927Z"
    }
   },
   "outputs": [
    {
     "name": "stdout",
     "output_type": "stream",
     "text": [
      "0 体育 industry_data/20180910/体育.xlsx\n",
      "(1999, 4)\n",
      "1 军事 industry_data/20180910/军事.xlsx\n",
      "(1999, 4)\n",
      "2 政治 industry_data/20180910/政治.xlsx\n",
      "(1999, 4)\n",
      "3 文化 industry_data/20180910/文化.xlsx\n",
      "(1999, 4)\n",
      "4 法制 industry_data/20180910/法制.xlsx\n",
      "(1999, 4)\n",
      "5 社会 industry_data/20180910/社会.xlsx\n",
      "(1999, 4)\n",
      "6 科技 industry_data/20180910/科技.xlsx\n",
      "(1999, 4)\n",
      "7 经贸 industry_data/20180910/经贸.xlsx\n",
      "(1999, 4)\n",
      "industry_data:  (15992, 4)\n"
     ]
    },
    {
     "data": {
      "text/html": [
       "<div>\n",
       "<style scoped>\n",
       "    .dataframe tbody tr th:only-of-type {\n",
       "        vertical-align: middle;\n",
       "    }\n",
       "\n",
       "    .dataframe tbody tr th {\n",
       "        vertical-align: top;\n",
       "    }\n",
       "\n",
       "    .dataframe thead th {\n",
       "        text-align: right;\n",
       "    }\n",
       "</style>\n",
       "<table border=\"1\" class=\"dataframe\">\n",
       "  <thead>\n",
       "    <tr style=\"text-align: right;\">\n",
       "      <th></th>\n",
       "      <th>url</th>\n",
       "      <th>title</th>\n",
       "      <th>content</th>\n",
       "      <th>label</th>\n",
       "      <th>title_content</th>\n",
       "    </tr>\n",
       "  </thead>\n",
       "  <tbody>\n",
       "    <tr>\n",
       "      <th>0</th>\n",
       "      <td>http://sports.inquirer.net/317017/im-club-man-...</td>\n",
       "      <td>‘I’m a club man’: Mourinho insists Manchester ...</td>\n",
       "      <td>\\nJose Mourinho insists he is only interested...</td>\n",
       "      <td>体育</td>\n",
       "      <td>‘I’m a club man’: Mourinho insists Manchester ...</td>\n",
       "    </tr>\n",
       "    <tr>\n",
       "      <th>1</th>\n",
       "      <td>http://www.thejakartapost.com/news/2018/08/27/...</td>\n",
       "      <td>’No Ronaldo no problem’ insists Real coach Lop...</td>\n",
       "      <td>Real Madrid coach Julen Lopetegui insisted aft...</td>\n",
       "      <td>体育</td>\n",
       "      <td>’No Ronaldo no problem’ insists Real coach Lop...</td>\n",
       "    </tr>\n",
       "    <tr>\n",
       "      <th>2</th>\n",
       "      <td>https://www.usatoday.com/story/sports/tennis/2...</td>\n",
       "      <td>1 and done: Halep 1st No. 1 seed to lose 1st U...</td>\n",
       "      <td>NEW YORK (AP) — Simona Halep made a quick-as-c...</td>\n",
       "      <td>体育</td>\n",
       "      <td>1 and done: Halep 1st No. 1 seed to lose 1st U...</td>\n",
       "    </tr>\n",
       "    <tr>\n",
       "      <th>3</th>\n",
       "      <td>https://www.usatoday.com/story/sports/nfl/2018...</td>\n",
       "      <td>13 NFL players who were top performers in 2018...</td>\n",
       "      <td>With a fluctuating cast of characters and opaq...</td>\n",
       "      <td>体育</td>\n",
       "      <td>13 NFL players who were top performers in 2018...</td>\n",
       "    </tr>\n",
       "    <tr>\n",
       "      <th>4</th>\n",
       "      <td>https://www.indiatoday.in/sports/cricket/story...</td>\n",
       "      <td>18-year-old Prithvi Shaw trains with Team Indi...</td>\n",
       "      <td>Prithvi Shaw has joined the Indian cricket tea...</td>\n",
       "      <td>体育</td>\n",
       "      <td>18-year-old Prithvi Shaw trains with Team Indi...</td>\n",
       "    </tr>\n",
       "  </tbody>\n",
       "</table>\n",
       "</div>"
      ],
      "text/plain": [
       "                                                 url  \\\n",
       "0  http://sports.inquirer.net/317017/im-club-man-...   \n",
       "1  http://www.thejakartapost.com/news/2018/08/27/...   \n",
       "2  https://www.usatoday.com/story/sports/tennis/2...   \n",
       "3  https://www.usatoday.com/story/sports/nfl/2018...   \n",
       "4  https://www.indiatoday.in/sports/cricket/story...   \n",
       "\n",
       "                                               title  \\\n",
       "0  ‘I’m a club man’: Mourinho insists Manchester ...   \n",
       "1  ’No Ronaldo no problem’ insists Real coach Lop...   \n",
       "2  1 and done: Halep 1st No. 1 seed to lose 1st U...   \n",
       "3  13 NFL players who were top performers in 2018...   \n",
       "4  18-year-old Prithvi Shaw trains with Team Indi...   \n",
       "\n",
       "                                             content label  \\\n",
       "0   \\nJose Mourinho insists he is only interested...    体育   \n",
       "1  Real Madrid coach Julen Lopetegui insisted aft...    体育   \n",
       "2  NEW YORK (AP) — Simona Halep made a quick-as-c...    体育   \n",
       "3  With a fluctuating cast of characters and opaq...    体育   \n",
       "4  Prithvi Shaw has joined the Indian cricket tea...    体育   \n",
       "\n",
       "                                       title_content  \n",
       "0  ‘I’m a club man’: Mourinho insists Manchester ...  \n",
       "1  ’No Ronaldo no problem’ insists Real coach Lop...  \n",
       "2  1 and done: Halep 1st No. 1 seed to lose 1st U...  \n",
       "3  13 NFL players who were top performers in 2018...  \n",
       "4  18-year-old Prithvi Shaw trains with Team Indi...  "
      ]
     },
     "execution_count": 10,
     "metadata": {},
     "output_type": "execute_result"
    }
   ],
   "source": [
    "filename_list = os.listdir(folder)\n",
    "industry_data = pd.DataFrame()\n",
    "for index, filename in enumerate(filename_list):\n",
    "    class_name = os.path.splitext(filename)[0]\n",
    "    file_path = '%s/%s'%(folder, filename)\n",
    "    print(index, class_name, file_path)\n",
    "    \n",
    "    tmp_data = pd.read_excel(file_path)\n",
    "    tmp_data.columns = ['url', 'title', 'content']\n",
    "    tmp_data['label'] = class_name\n",
    "    print(tmp_data.shape)\n",
    "    \n",
    "    industry_data = pd.concat([industry_data, tmp_data], axis = 0)\n",
    "\n",
    "print('industry_data: ', industry_data.shape)\n",
    "industry_data['title_content'] = industry_data['title'] + '. ' + industry_data['content']\n",
    "industry_data.head()"
   ]
  },
  {
   "cell_type": "code",
   "execution_count": 11,
   "metadata": {
    "ExecuteTime": {
     "end_time": "2018-10-25T08:59:00.073052Z",
     "start_time": "2018-10-25T08:59:00.060051Z"
    }
   },
   "outputs": [
    {
     "data": {
      "text/plain": [
       "社会    1999\n",
       "军事    1999\n",
       "文化    1999\n",
       "科技    1999\n",
       "政治    1999\n",
       "经贸    1999\n",
       "体育    1999\n",
       "法制    1999\n",
       "Name: label, dtype: int64"
      ]
     },
     "execution_count": 11,
     "metadata": {},
     "output_type": "execute_result"
    }
   ],
   "source": [
    "industry_data['label'].value_counts()"
   ]
  },
  {
   "cell_type": "code",
   "execution_count": 12,
   "metadata": {
    "ExecuteTime": {
     "end_time": "2018-10-25T08:59:00.193058Z",
     "start_time": "2018-10-25T08:59:00.077052Z"
    }
   },
   "outputs": [
    {
     "data": {
      "text/plain": [
       "{'体育': 1, '军事': 2, '政治': 3, '文化': 4, '法制': 5, '社会': 6, '科技': 7, '经贸': 8}"
      ]
     },
     "execution_count": 12,
     "metadata": {},
     "output_type": "execute_result"
    }
   ],
   "source": [
    "ind = {}\n",
    "for i, v in enumerate(industry_data['label'].unique()):\n",
    "    ind[v] = i+1\n",
    "ind"
   ]
  },
  {
   "cell_type": "code",
   "execution_count": 13,
   "metadata": {
    "ExecuteTime": {
     "end_time": "2018-10-25T08:59:20.895243Z",
     "start_time": "2018-10-25T08:59:00.198059Z"
    },
    "collapsed": true
   },
   "outputs": [],
   "source": [
    "industry_data.to_excel('industry_result/corpus/title_content_label.xlsx', index = False)"
   ]
  },
  {
   "cell_type": "markdown",
   "metadata": {},
   "source": [
    "## 预处理"
   ]
  },
  {
   "cell_type": "code",
   "execution_count": 14,
   "metadata": {
    "ExecuteTime": {
     "end_time": "2018-10-25T09:02:12.384051Z",
     "start_time": "2018-10-25T08:59:20.899243Z"
    }
   },
   "outputs": [
    {
     "name": "stdout",
     "output_type": "stream",
     "text": [
      "(15992, 5)\n",
      "save_folder:  industry_result/\n",
      "title num:  15992\n",
      "content num:  15992\n",
      "jose mourinho insists future prosperity manchester united position troubled club mourinho future united manager subject discussion tempestuous period dating frustrating closeseason transfer window conjecture mourinho happy effort executive vicechairman woodward handle player signing trafford advertisement equally damaging mourinho relationship star player paul pogba close scrutiny comment france midfielder mourinho dour uncooperative mood ahead team premier league meeting mauricio pochettino tottenham monday talkative moment reveal gratitude support fan game season supporter fantastic match mourinho team matter career selfish thinking club happy supporter support team leicester normal situation team playing winning supportive team brighton didn play lost match fantastic feeling hope feeling player feel player ready winning style advertisement mourinho refused banal topic medium claim left frustrated defeat brighton weekend frustration frustration match topsix team frustration time play time mistake winning style defensive mistake dominant chance score goal mourinho unhappy coverage mainstream medium provided club month disappointing transfer market tricky relationship figure trafford response mourinho refused address issue entered season squad satisfaction answer mourinho answer week question strange united hapless press officer attempted move questioning meeting tottenham mourinho refused play ball pochettino opinion spur failure strengthen squad summer snapped news view comment\n",
      "label num:  15992\n"
     ]
    }
   ],
   "source": [
    "save_folder = 'industry_result/'\n",
    "pre_save(handle_contents, industry_data, save_folder)"
   ]
  },
  {
   "cell_type": "markdown",
   "metadata": {},
   "source": [
    "# 倾向性--网信办"
   ]
  },
  {
   "cell_type": "markdown",
   "metadata": {},
   "source": [
    "## 导入数据"
   ]
  },
  {
   "cell_type": "code",
   "execution_count": 15,
   "metadata": {
    "ExecuteTime": {
     "end_time": "2018-10-25T09:02:12.393052Z",
     "start_time": "2018-10-25T09:02:12.387051Z"
    },
    "collapsed": true
   },
   "outputs": [],
   "source": [
    "folder = 'tendency_data/20180914' # 数据文件夹"
   ]
  },
  {
   "cell_type": "code",
   "execution_count": 16,
   "metadata": {
    "ExecuteTime": {
     "end_time": "2018-10-25T09:02:13.929140Z",
     "start_time": "2018-10-25T09:02:12.399052Z"
    }
   },
   "outputs": [
    {
     "name": "stdout",
     "output_type": "stream",
     "text": [
      "0 倾向性-中 tendency_data/20180914/倾向性-中.xlsx\n",
      "(2942, 4)\n",
      "1 倾向性-正 tendency_data/20180914/倾向性-正.xlsx\n",
      "(2007, 4)\n",
      "2 倾向性-负 tendency_data/20180914/倾向性-负.xlsx\n",
      "(2966, 4)\n",
      "tendency_data:  (7915, 4)\n"
     ]
    },
    {
     "data": {
      "text/html": [
       "<div>\n",
       "<style scoped>\n",
       "    .dataframe tbody tr th:only-of-type {\n",
       "        vertical-align: middle;\n",
       "    }\n",
       "\n",
       "    .dataframe tbody tr th {\n",
       "        vertical-align: top;\n",
       "    }\n",
       "\n",
       "    .dataframe thead th {\n",
       "        text-align: right;\n",
       "    }\n",
       "</style>\n",
       "<table border=\"1\" class=\"dataframe\">\n",
       "  <thead>\n",
       "    <tr style=\"text-align: right;\">\n",
       "      <th></th>\n",
       "      <th>url</th>\n",
       "      <th>title</th>\n",
       "      <th>content</th>\n",
       "      <th>label</th>\n",
       "      <th>title_content</th>\n",
       "    </tr>\n",
       "  </thead>\n",
       "  <tbody>\n",
       "    <tr>\n",
       "      <th>0</th>\n",
       "      <td>https://www.straitstimes.com/singapore/environ...</td>\n",
       "      <td>More shopping malls seek help to fix rodent pr...</td>\n",
       "      <td>Published3 hours ago\\nSue-Ann Tansuetan@sph.co...</td>\n",
       "      <td>中</td>\n",
       "      <td>More shopping malls seek help to fix rodent pr...</td>\n",
       "    </tr>\n",
       "    <tr>\n",
       "      <th>1</th>\n",
       "      <td>https://www.thetimes.co.uk/edition/times2/what...</td>\n",
       "      <td>What’s on TV tonight</td>\n",
       "      <td>\\nJuly 27 2018, 12:01am, The Times\\nViewing gu...</td>\n",
       "      <td>中</td>\n",
       "      <td>What’s on TV tonight. \\nJuly 27 2018, 12:01am,...</td>\n",
       "    </tr>\n",
       "    <tr>\n",
       "      <th>2</th>\n",
       "      <td>https://www.hindustantimes.com/india-news/form...</td>\n",
       "      <td>Former Sabarimala temple board chief plans Jal...</td>\n",
       "      <td>A former president of the Travancore Devaswom ...</td>\n",
       "      <td>中</td>\n",
       "      <td>Former Sabarimala temple board chief plans Jal...</td>\n",
       "    </tr>\n",
       "    <tr>\n",
       "      <th>3</th>\n",
       "      <td>http://nationalinterest.org/blog/middle-east-w...</td>\n",
       "      <td>Can Trump Get America Out of Afghanistan?</td>\n",
       "      <td>\\n  Last week the White House ordered its top...</td>\n",
       "      <td>中</td>\n",
       "      <td>Can Trump Get America Out of Afghanistan?.  \\n...</td>\n",
       "    </tr>\n",
       "    <tr>\n",
       "      <th>4</th>\n",
       "      <td>https://www.voanews.com/a/winners-of-2018-phil...</td>\n",
       "      <td>Winners of 2018 Philippine-Based Magsaysay Awa...</td>\n",
       "      <td>\\nEast Asia \\n\\n\\n\\nJuly 26, 2018 8:20 AM\\n\\n\\...</td>\n",
       "      <td>中</td>\n",
       "      <td>Winners of 2018 Philippine-Based Magsaysay Awa...</td>\n",
       "    </tr>\n",
       "  </tbody>\n",
       "</table>\n",
       "</div>"
      ],
      "text/plain": [
       "                                                 url  \\\n",
       "0  https://www.straitstimes.com/singapore/environ...   \n",
       "1  https://www.thetimes.co.uk/edition/times2/what...   \n",
       "2  https://www.hindustantimes.com/india-news/form...   \n",
       "3  http://nationalinterest.org/blog/middle-east-w...   \n",
       "4  https://www.voanews.com/a/winners-of-2018-phil...   \n",
       "\n",
       "                                               title  \\\n",
       "0  More shopping malls seek help to fix rodent pr...   \n",
       "1                               What’s on TV tonight   \n",
       "2  Former Sabarimala temple board chief plans Jal...   \n",
       "3          Can Trump Get America Out of Afghanistan?   \n",
       "4  Winners of 2018 Philippine-Based Magsaysay Awa...   \n",
       "\n",
       "                                             content label  \\\n",
       "0  Published3 hours ago\\nSue-Ann Tansuetan@sph.co...     中   \n",
       "1  \\nJuly 27 2018, 12:01am, The Times\\nViewing gu...     中   \n",
       "2  A former president of the Travancore Devaswom ...     中   \n",
       "3   \\n  Last week the White House ordered its top...     中   \n",
       "4  \\nEast Asia \\n\\n\\n\\nJuly 26, 2018 8:20 AM\\n\\n\\...     中   \n",
       "\n",
       "                                       title_content  \n",
       "0  More shopping malls seek help to fix rodent pr...  \n",
       "1  What’s on TV tonight. \\nJuly 27 2018, 12:01am,...  \n",
       "2  Former Sabarimala temple board chief plans Jal...  \n",
       "3  Can Trump Get America Out of Afghanistan?.  \\n...  \n",
       "4  Winners of 2018 Philippine-Based Magsaysay Awa...  "
      ]
     },
     "execution_count": 16,
     "metadata": {},
     "output_type": "execute_result"
    }
   ],
   "source": [
    "filename_list = os.listdir(folder)\n",
    "tendency_data = pd.DataFrame()\n",
    "for index, filename in enumerate(filename_list):\n",
    "    class_name = os.path.splitext(filename)[0]\n",
    "    file_path = '%s/%s'%(folder, filename)\n",
    "    print(index, class_name, file_path)\n",
    "    \n",
    "    tmp_data = pd.read_excel(file_path)\n",
    "    tmp_data.columns = ['url', 'title', 'content']\n",
    "    tmp_data['label'] = class_name.split('-')[1]\n",
    "    print(tmp_data.shape)\n",
    "    \n",
    "    tendency_data = pd.concat([tendency_data, tmp_data], axis = 0)\n",
    "\n",
    "print('tendency_data: ', tendency_data.shape)\n",
    "tendency_data['title_content'] = tendency_data['title'] + '. ' + tendency_data['content']\n",
    "tendency_data.head()"
   ]
  },
  {
   "cell_type": "code",
   "execution_count": 17,
   "metadata": {
    "ExecuteTime": {
     "end_time": "2018-10-25T09:02:13.946141Z",
     "start_time": "2018-10-25T09:02:13.933140Z"
    }
   },
   "outputs": [
    {
     "data": {
      "text/plain": [
       "负    2966\n",
       "中    2942\n",
       "正    2007\n",
       "Name: label, dtype: int64"
      ]
     },
     "execution_count": 17,
     "metadata": {},
     "output_type": "execute_result"
    }
   ],
   "source": [
    "tendency_data['label'].value_counts()"
   ]
  },
  {
   "cell_type": "code",
   "execution_count": 19,
   "metadata": {
    "ExecuteTime": {
     "end_time": "2018-10-25T09:02:24.045718Z",
     "start_time": "2018-10-25T09:02:14.059147Z"
    },
    "collapsed": true
   },
   "outputs": [],
   "source": [
    "tendency_data.to_excel('tendency_result/corpus/title_content_label.xlsx', index = False)"
   ]
  },
  {
   "cell_type": "markdown",
   "metadata": {},
   "source": [
    "## 预处理"
   ]
  },
  {
   "cell_type": "code",
   "execution_count": 20,
   "metadata": {
    "ExecuteTime": {
     "end_time": "2018-10-25T09:03:49.104583Z",
     "start_time": "2018-10-25T09:02:24.047718Z"
    }
   },
   "outputs": [
    {
     "name": "stdout",
     "output_type": "stream",
     "text": [
      "(7915, 5)\n",
      "save_folder:  tendency_result/\n",
      "title num:  7915\n",
      "content num:  7915\n",
      "published hour sueann tansuetanmore shopping mall approaching pest control company managing rat mall increasing pest control firm awareness pest affect mall business winston baptista director pest control company origin exterminator mall seeking jumped cent nicole zycinskisingh managing director killem pest cent increase mall pest control measure guan hong technology partner pestech mall method trapping rat existing method effective setting trap individual tenant pest control firm entire mall rat obey human territory shop mall pest control system spokesman rentokil public conscious customer aware disease rat transmit sighting rodent mall premise negative brand image mall spokesman dead vegetable dish hotpot restaurant marina square business eatery suffered eatery mall closed aftermath lack customer pestech awareness stem social medium photo social medium ten thousand hard mall recover mall food beverage outlet false ceiling proximity construction site station pest control company tackle pest controller technology understand rat killem pest rentokil trap connected wifi monitor trap round clock realtime update rodent activity detected origin exterminator sensor generate heat map rodent activity allowing proactive trapping rat baptista trap data indiscriminate placement excessive trap result trap shyness avoidance rodent intelligent respect address issue rodent population explodes\n",
      "label num:  7915\n"
     ]
    }
   ],
   "source": [
    "save_folder = 'tendency_result/'\n",
    "pre_save(handle_contents, tendency_data, save_folder)"
   ]
  },
  {
   "cell_type": "markdown",
   "metadata": {
    "collapsed": true
   },
   "source": [
    "# 保存本文件"
   ]
  },
  {
   "cell_type": "code",
   "execution_count": 21,
   "metadata": {
    "ExecuteTime": {
     "end_time": "2018-10-25T09:03:49.133585Z",
     "start_time": "2018-10-25T09:03:49.107583Z"
    },
    "collapsed": true
   },
   "outputs": [],
   "source": [
    "if 0:\n",
    "    import datetime as dt\n",
    "    \n",
    "    def output_HTML(read_file, output_file):\n",
    "        from nbconvert import HTMLExporter\n",
    "        import codecs\n",
    "        import nbformat\n",
    "        exporter = HTMLExporter()\n",
    "        # read_file is '.ipynb', output_file is '.html'\n",
    "        output_notebook = nbformat.read(read_file, as_version=4)\n",
    "        output, resources = exporter.from_notebook_node(output_notebook)\n",
    "        codecs.open(output_file, 'w', encoding='utf-8').write(output)\n",
    "\n",
    "    html_file_folder = 'html_files'\n",
    "    if not os.path.exists(html_file_folder):\n",
    "        os.makedirs(html_file_folder)\n",
    "\n",
    "    today = dt.datetime.now().strftime('%Y%m%d')\n",
    "    current_file = 'circ_cor_model_1_pre.ipynb'\n",
    "    output_file = 'html_files\\%s_%s.html'%(os.path.splitext(current_file)[0], today)\n",
    "    output_HTML(current_file, output_file)"
   ]
  }
 ],
 "metadata": {
  "kernelspec": {
   "display_name": "Python 3",
   "language": "python",
   "name": "python3"
  },
  "language_info": {
   "codemirror_mode": {
    "name": "ipython",
    "version": 3
   },
   "file_extension": ".py",
   "mimetype": "text/x-python",
   "name": "python",
   "nbconvert_exporter": "python",
   "pygments_lexer": "ipython3",
   "version": "3.6.3"
  },
  "toc": {
   "nav_menu": {},
   "number_sections": true,
   "sideBar": true,
   "skip_h1_title": false,
   "title_cell": "Table of Contents",
   "title_sidebar": "Contents",
   "toc_cell": false,
   "toc_position": {
    "height": "calc(100% - 180px)",
    "left": "10px",
    "top": "150px",
    "width": "376px"
   },
   "toc_section_display": true,
   "toc_window_display": true
  },
  "varInspector": {
   "cols": {
    "lenName": 16,
    "lenType": 16,
    "lenVar": 40
   },
   "kernels_config": {
    "python": {
     "delete_cmd_postfix": "",
     "delete_cmd_prefix": "del ",
     "library": "var_list.py",
     "varRefreshCmd": "print(var_dic_list())"
    },
    "r": {
     "delete_cmd_postfix": ") ",
     "delete_cmd_prefix": "rm(",
     "library": "var_list.r",
     "varRefreshCmd": "cat(var_dic_list()) "
    }
   },
   "types_to_exclude": [
    "module",
    "function",
    "builtin_function_or_method",
    "instance",
    "_Feature"
   ],
   "window_display": false
  }
 },
 "nbformat": 4,
 "nbformat_minor": 2
}
