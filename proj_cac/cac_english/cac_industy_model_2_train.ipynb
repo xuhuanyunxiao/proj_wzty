{
 "cells": [
  {
   "cell_type": "markdown",
   "metadata": {},
   "source": [
    "- 保监会 相关性模型 2 训练 "
   ]
  },
  {
   "cell_type": "markdown",
   "metadata": {},
   "source": [
    "# 基本设置"
   ]
  },
  {
   "cell_type": "code",
   "execution_count": 1,
   "metadata": {
    "ExecuteTime": {
     "end_time": "2018-10-26T01:26:35.822660Z",
     "start_time": "2018-10-26T01:26:33.193510Z"
    },
    "collapsed": true
   },
   "outputs": [],
   "source": [
    "##load packages, needed\n",
    "# encoding=utf-8\n",
    "\n",
    "import jieba\n",
    "import sys\n",
    "import re\n",
    "import time\n",
    "import string\n",
    "from sklearn import feature_extraction\n",
    "from sklearn.pipeline import Pipeline,FeatureUnion\n",
    "\n",
    "from sklearn.feature_extraction.text import TfidfTransformer\n",
    "from sklearn.feature_extraction.text import CountVectorizer\n",
    "\n",
    "from sklearn.feature_extraction.text import TfidfVectorizer\n",
    "from sklearn.feature_selection import SelectKBest, chi2,mutual_info_classif,f_classif \n",
    "\n",
    "import xgboost as xgb\n",
    "from xgboost import XGBClassifier\n",
    "from sklearn import metrics\n",
    "\n",
    "from sklearn.base import BaseEstimator, TransformerMixin\n",
    "from collections import defaultdict\n",
    "\n",
    "import joblib\n",
    "%matplotlib inline\n",
    "import numpy as np\n",
    "import pandas as pd\n",
    "import os\n",
    "from sklearn.model_selection import train_test_split\n",
    "from collections import Counter\n",
    "\n",
    "import warnings\n",
    "warnings.filterwarnings('ignore')"
   ]
  },
  {
   "cell_type": "markdown",
   "metadata": {},
   "source": [
    "## 一些函数"
   ]
  },
  {
   "cell_type": "code",
   "execution_count": 10,
   "metadata": {
    "ExecuteTime": {
     "end_time": "2018-10-26T01:33:15.587525Z",
     "start_time": "2018-10-26T01:33:15.556524Z"
    },
    "collapsed": true
   },
   "outputs": [],
   "source": [
    "class StatsFeatures(BaseEstimator, TransformerMixin):\n",
    "    \n",
    "    def __init__(self):\n",
    "        pass\n",
    "\n",
    "    def fit(self, X, y=None):\n",
    "        return self\n",
    "\n",
    "    def getcnt(self,x): \n",
    "        words = x.split()\n",
    "        return len(list(set(words)))\n",
    "    \n",
    "    def transform(self, X):\n",
    "        data = []\n",
    "        for x in X:\n",
    "            words = x.split()\n",
    "            if len(words) == 0:\n",
    "                length  = 1\n",
    "            else :\n",
    "                length = len(words)\n",
    "            data.append([len(x),self.getcnt(x),self.getcnt(x)/length])            \n",
    "        return data"
   ]
  },
  {
   "cell_type": "code",
   "execution_count": 3,
   "metadata": {
    "ExecuteTime": {
     "end_time": "2018-10-26T01:26:35.971669Z",
     "start_time": "2018-10-26T01:26:35.890664Z"
    },
    "collapsed": true
   },
   "outputs": [],
   "source": [
    "def title_content_label(filepath):\n",
    "    title = []\n",
    "    filename = filepath + 'titles.txt'\n",
    "    fid = open(filename, \"r+\", encoding='UTF-8')\n",
    "    for f in fid:\n",
    "        title.append(f.strip().replace('\\n', ''))\n",
    "    fid.close()\n",
    "    print('title num: ', len(title))\n",
    "    print(title[:2])\n",
    "\n",
    "    content = []\n",
    "    filename = filepath + 'contents.txt'\n",
    "    fid = open(filename, \"r+\", encoding='UTF-8')\n",
    "    for f in fid:\n",
    "        content.append(f.strip().replace('\\n', ''))\n",
    "    fid.close()\n",
    "    print('content num: ', len(content))\n",
    "    # content[:2]\n",
    "\n",
    "    title_content = [t + ' ' + c for t,c in zip(title, content)]\n",
    "    print('title_content num: ', len(title_content))\n",
    "\n",
    "    label = []\n",
    "    filename = filepath + 'labels.txt'\n",
    "    fid = open(filename, \"r+\", encoding='UTF-8')\n",
    "    for f in fid:\n",
    "        label.append(f.strip().replace('\\n', ''))\n",
    "    fid.close()\n",
    "    print('label num: ', len(label))\n",
    "    print(label[:5])\n",
    "    \n",
    "    return title_content, label"
   ]
  },
  {
   "cell_type": "code",
   "execution_count": 4,
   "metadata": {
    "ExecuteTime": {
     "end_time": "2018-10-26T01:26:36.117677Z",
     "start_time": "2018-10-26T01:26:35.979669Z"
    },
    "collapsed": true
   },
   "outputs": [],
   "source": [
    "def cal_kfold(title_content, label, pipeline, raw_folder, filename):\n",
    "    from sklearn.model_selection import KFold\n",
    "    import numpy as np\n",
    "\n",
    "    data_raw = pd.read_excel('%s/corpus/title_content_label.xlsx'%raw_folder)\n",
    "    raw_title = np.array(data_raw['title'])\n",
    "    raw_content = np.array(data_raw['content'])\n",
    "    print('data_raw: ', data_raw.shape)\n",
    "\n",
    "    kf = KFold(n_splits=5, shuffle=True, random_state=0)\n",
    "    title_content = np.array(title_content)\n",
    "    label = np.array(label)\n",
    "    \n",
    "    kfold_res = {'raw_title':[], 'raw_content':[], 'label':[], \n",
    "             'predict_label':[], 'title_content':[], 'predict_proba':[]}\n",
    "\n",
    "    num = 0\n",
    "    for train_index , test_index in kf.split(title_content):\n",
    "        print('---- %s'%(num+1))\n",
    "        X_train,X_test = title_content[train_index], title_content[test_index]\n",
    "        y_train,y_test = label[train_index], label[test_index]\n",
    "        \n",
    "        pipeline.fit(X_train, y_train)\n",
    "        print(pipeline.score(X_train, y_train))    \n",
    "\n",
    "        y_pred_class = pipeline.predict(X_test)\n",
    "        print('accuracy_score: ', metrics.accuracy_score(y_test, y_pred_class)) # 指所有分类正确的百分比\n",
    "        print(metrics.classification_report(y_test, y_pred_class))\n",
    "        print('confusion_matrix: ')\n",
    "        print( metrics.confusion_matrix(y_test, y_pred_class))   \n",
    "        \n",
    "        y_pred_prob = pipeline.predict_proba(X_test)\n",
    "\n",
    "        kfold_res['raw_title'] += list(raw_title[test_index])\n",
    "        kfold_res['raw_content'] += list(raw_content[test_index])\n",
    "        kfold_res['title_content'] += list(X_test)\n",
    "        kfold_res['label'] += [class_name_dict[i] for i in y_test]\n",
    "        kfold_res['predict_label'] += [class_name_dict[i] for i in y_pred_class]\n",
    "        kfold_res['predict_proba'] += list(y_pred_prob.max(axis = 1))\n",
    "    \n",
    "        num += 1\n",
    "        \n",
    "    kfold_result = pd.DataFrame.from_dict(kfold_res, orient = 'index').T\n",
    "    kfold_result['R_W'] = kfold_result.apply(lambda x: 'Right' if x['label'] == x['predict_label'] else 'Wrong', axis = 1)\n",
    "    print('kfold_result: ', kfold_result.shape)\n",
    "    \n",
    "    with pd.ExcelWriter('%s/corpus/%s'%(raw_folder, filename)) as writer:\n",
    "        for label in kfold_result['label'].unique():\n",
    "            tmp_data = kfold_result[kfold_result['label'] == label]\n",
    "            tmp_data.to_excel(writer, label, index = False)\n",
    "        writer.save()"
   ]
  },
  {
   "cell_type": "code",
   "execution_count": 5,
   "metadata": {
    "ExecuteTime": {
     "end_time": "2018-10-26T01:26:36.209682Z",
     "start_time": "2018-10-26T01:26:36.119677Z"
    },
    "collapsed": true
   },
   "outputs": [],
   "source": [
    "def plot_class_proba(y_pred_class, y_pred_prob, label_dic):\n",
    "    import seaborn as sns\n",
    "    import matplotlib.pyplot as plt\n",
    "\n",
    "    sel_data = pd.DataFrame()\n",
    "    sel_data['predict_label'] = y_pred_class\n",
    "    sel_data['predict_proba'] = y_pred_prob\n",
    "    sel_data['label'] = y_test\n",
    "\n",
    "    # label_dic={'监管':1,'行业':2,'产品销售':3,'资本市场':4,'公司内部管理':5,'消费服务':6,'其他相关报道':7,'噪音':8}\n",
    "    # sel_data['predict_label'] = sel_data['predict_label'].apply(lambda x:label_dic[x])\n",
    "    g = sns.FacetGrid(sel_data, col=\"predict_label\", col_wrap=4, sharex=False)\n",
    "    g.map(plt.hist, \"predict_proba\", bins = 10)\n",
    "\n",
    "    sel_data['proba'] = sel_data['predict_proba'].apply(lambda x:round(x, 1))\n",
    "    sel_data_stat = sel_data.groupby(['predict_label', 'proba'])['predict_proba'].count().unstack().fillna(0)\n",
    "    sel_data_stat['sum'] = sel_data_stat.sum(axis = 1)\n",
    "    sel_data_stat.loc['sum'] = sel_data_stat.sum(axis = 0)\n",
    "    return sel_data_stat"
   ]
  },
  {
   "cell_type": "markdown",
   "metadata": {},
   "source": [
    "# 网信办--行业分类"
   ]
  },
  {
   "cell_type": "markdown",
   "metadata": {},
   "source": [
    "## 导入数据"
   ]
  },
  {
   "cell_type": "code",
   "execution_count": 29,
   "metadata": {
    "ExecuteTime": {
     "end_time": "2018-10-26T05:38:10.890566Z",
     "start_time": "2018-10-26T05:38:10.467542Z"
    }
   },
   "outputs": [
    {
     "name": "stdout",
     "output_type": "stream",
     "text": [
      "title num:  15992\n",
      "['club mourinho insists manchester united future', 'ronaldo insists real coach lopetegui']\n",
      "content num:  15992\n",
      "title_content num:  15992\n",
      "label num:  15992\n",
      "['体育', '体育', '体育', '体育', '体育']\n"
     ]
    }
   ],
   "source": [
    "cac_filepath_class = 'industry_result/corpus/'\n",
    "title_content, label = title_content_label(cac_filepath_class)"
   ]
  },
  {
   "cell_type": "code",
   "execution_count": 30,
   "metadata": {
    "ExecuteTime": {
     "end_time": "2018-10-26T05:38:11.135580Z",
     "start_time": "2018-10-26T05:38:11.125580Z"
    }
   },
   "outputs": [
    {
     "data": {
      "text/plain": [
       "{1: '体育', 2: '军事', 3: '政治', 4: '文化', 5: '法制', 6: '社会', 7: '科技', 8: '经贸'}"
      ]
     },
     "execution_count": 30,
     "metadata": {},
     "output_type": "execute_result"
    }
   ],
   "source": [
    "label_dic={'体育': 1, '军事': 2, '政治': 3, '文化': 4, '法制': 5, '社会': 6, '科技': 7, '经贸': 8}\n",
    "class_name_dict = {v: k for k, v in label_dic.items()}\n",
    "class_name_dict"
   ]
  },
  {
   "cell_type": "code",
   "execution_count": 31,
   "metadata": {
    "ExecuteTime": {
     "end_time": "2018-10-26T05:38:11.704613Z",
     "start_time": "2018-10-26T05:38:11.691612Z"
    }
   },
   "outputs": [
    {
     "data": {
      "text/plain": [
       "[1, 1, 1, 1, 1]"
      ]
     },
     "execution_count": 31,
     "metadata": {},
     "output_type": "execute_result"
    }
   ],
   "source": [
    "label = [label_dic[l] for l in label]\n",
    "label[:5]"
   ]
  },
  {
   "cell_type": "code",
   "execution_count": 32,
   "metadata": {
    "ExecuteTime": {
     "end_time": "2018-10-26T05:38:12.435654Z",
     "start_time": "2018-10-26T05:38:12.404653Z"
    }
   },
   "outputs": [
    {
     "name": "stdout",
     "output_type": "stream",
     "text": [
      "训练集： 11194\n",
      "训练集-各类数量： Counter({7: 1434, 6: 1419, 4: 1418, 1: 1414, 8: 1396, 2: 1392, 3: 1364, 5: 1357})\n",
      "测试集： 4798\n",
      "测试集-各类数量： Counter({5: 642, 3: 635, 2: 607, 8: 603, 1: 585, 4: 581, 6: 580, 7: 565})\n"
     ]
    }
   ],
   "source": [
    "X_train, X_test, y_train, y_test = train_test_split(title_content, label, test_size=0.3, random_state=42)\n",
    "print('训练集：',len(y_train))\n",
    "print('训练集-各类数量：',Counter(y_train))\n",
    "print('测试集：',len(y_test))\n",
    "print('测试集-各类数量：',Counter(y_test))"
   ]
  },
  {
   "cell_type": "markdown",
   "metadata": {},
   "source": [
    "## train-test"
   ]
  },
  {
   "cell_type": "code",
   "execution_count": 11,
   "metadata": {
    "ExecuteTime": {
     "end_time": "2018-10-26T01:40:47.549069Z",
     "start_time": "2018-10-26T01:33:22.014893Z"
    }
   },
   "outputs": [
    {
     "name": "stdout",
     "output_type": "stream",
     "text": [
      "0.9618545649455065\n"
     ]
    },
    {
     "data": {
      "text/plain": [
       "Pipeline(memory=None,\n",
       "     steps=[('features', FeatureUnion(n_jobs=1,\n",
       "       transformer_list=[('tf_idf', Pipeline(memory=None,\n",
       "     steps=[('counts', CountVectorizer(analyzer='word', binary=False, decode_error='strict',\n",
       "        dtype=<class 'numpy.int64'>, encoding='utf-8', input='content',\n",
       "        lowercase=True, max_df=1.0...tate=0, reg_alpha=0, reg_lambda=1, scale_pos_weight=1,\n",
       "       seed=None, silent=True, subsample=1))])"
      ]
     },
     "execution_count": 11,
     "metadata": {},
     "output_type": "execute_result"
    }
   ],
   "source": [
    "pipeline = Pipeline([\n",
    "    ('features', FeatureUnion([\n",
    "        ('tf_idf', Pipeline([\n",
    "            ('counts', CountVectorizer()),\n",
    "            ('tf_idf', TfidfTransformer()),\n",
    "            ('chi', SelectKBest(chi2, k=20000))\n",
    "        ])),\n",
    "        ('len_stats', StatsFeatures())\n",
    "    ])),\n",
    "    ('classifier', XGBClassifier(max_depth=7,objective='multi:softmax', num_class=8))\n",
    "])\n",
    "\n",
    "pipeline.fit(X_train, y_train)\n",
    "print(pipeline.score(X_train, y_train))\n",
    "pipeline"
   ]
  },
  {
   "cell_type": "code",
   "execution_count": 12,
   "metadata": {
    "ExecuteTime": {
     "end_time": "2018-10-26T01:40:49.984601Z",
     "start_time": "2018-10-26T01:40:47.860087Z"
    }
   },
   "outputs": [
    {
     "name": "stdout",
     "output_type": "stream",
     "text": [
      "accuracy_score:  0.7653188828678616\n",
      "             precision    recall  f1-score   support\n",
      "\n",
      "          1       0.90      0.92      0.91       585\n",
      "          2       0.87      0.90      0.88       607\n",
      "          3       0.73      0.69      0.71       635\n",
      "          4       0.81      0.82      0.81       581\n",
      "          5       0.73      0.72      0.73       642\n",
      "          6       0.55      0.53      0.54       580\n",
      "          7       0.80      0.78      0.79       565\n",
      "          8       0.74      0.78      0.76       603\n",
      "\n",
      "avg / total       0.76      0.77      0.76      4798\n",
      "\n",
      "confusion_matrix: \n",
      "[[538   2   5   2  13  20   3   2]\n",
      " [  6 544  14   8  10  16   4   5]\n",
      " [  8  33 439   8  50  45   5  47]\n",
      " [  9   4  13 474   7  44  16  14]\n",
      " [  6  16  61  18 463  45  11  22]\n",
      " [ 15  17  45  52  62 308  37  44]\n",
      " [  6   4   9  14  12  49 438  33]\n",
      " [ 13   3  19  12  18  36  34 468]]\n"
     ]
    }
   ],
   "source": [
    "y_pred_class = pipeline.predict(X_test)\n",
    "print('accuracy_score: ', metrics.accuracy_score(y_test, y_pred_class)) # 指所有分类正确的百分比\n",
    "print(metrics.classification_report(y_test, y_pred_class))\n",
    "print('confusion_matrix: ')\n",
    "print( metrics.confusion_matrix(y_test, y_pred_class))"
   ]
  },
  {
   "cell_type": "markdown",
   "metadata": {
    "ExecuteTime": {
     "end_time": "2018-10-25T06:47:41.143403Z",
     "start_time": "2018-10-25T06:47:41.135402Z"
    }
   },
   "source": [
    "## 概率结果"
   ]
  },
  {
   "cell_type": "code",
   "execution_count": 13,
   "metadata": {
    "ExecuteTime": {
     "end_time": "2018-10-26T01:40:52.989152Z",
     "start_time": "2018-10-26T01:40:50.283807Z"
    }
   },
   "outputs": [
    {
     "data": {
      "text/plain": [
       "<matplotlib.axes._subplots.AxesSubplot at 0x5914710>"
      ]
     },
     "execution_count": 13,
     "metadata": {},
     "output_type": "execute_result"
    },
    {
     "data": {
      "image/png": "[encoded data removed]",
      "text/plain": [
       "<matplotlib.figure.Figure at 0x25901d0>"
      ]
     },
     "metadata": {},
     "output_type": "display_data"
    }
   ],
   "source": [
    "y_pred_prob = pipeline.predict_proba(X_test)\n",
    "pd.DataFrame(y_pred_prob.max(axis = 1)).plot.hist(bins = 100)"
   ]
  },
  {
   "cell_type": "code",
   "execution_count": 14,
   "metadata": {
    "ExecuteTime": {
     "end_time": "2018-10-26T01:40:54.792255Z",
     "start_time": "2018-10-26T01:40:53.277168Z"
    }
   },
   "outputs": [
    {
     "data": {
      "text/html": [
       "<div>\n",
       "<style scoped>\n",
       "    .dataframe tbody tr th:only-of-type {\n",
       "        vertical-align: middle;\n",
       "    }\n",
       "\n",
       "    .dataframe tbody tr th {\n",
       "        vertical-align: top;\n",
       "    }\n",
       "\n",
       "    .dataframe thead th {\n",
       "        text-align: right;\n",
       "    }\n",
       "</style>\n",
       "<table border=\"1\" class=\"dataframe\">\n",
       "  <thead>\n",
       "    <tr style=\"text-align: right;\">\n",
       "      <th>proba</th>\n",
       "      <th>0.2</th>\n",
       "      <th>0.3</th>\n",
       "      <th>0.4</th>\n",
       "      <th>0.5</th>\n",
       "      <th>0.6</th>\n",
       "      <th>0.7</th>\n",
       "      <th>0.8</th>\n",
       "      <th>0.9</th>\n",
       "      <th>1.0</th>\n",
       "      <th>sum</th>\n",
       "    </tr>\n",
       "    <tr>\n",
       "      <th>predict_label</th>\n",
       "      <th></th>\n",
       "      <th></th>\n",
       "      <th></th>\n",
       "      <th></th>\n",
       "      <th></th>\n",
       "      <th></th>\n",
       "      <th></th>\n",
       "      <th></th>\n",
       "      <th></th>\n",
       "      <th></th>\n",
       "    </tr>\n",
       "  </thead>\n",
       "  <tbody>\n",
       "    <tr>\n",
       "      <th>1</th>\n",
       "      <td>0.0</td>\n",
       "      <td>8.0</td>\n",
       "      <td>22.0</td>\n",
       "      <td>22.0</td>\n",
       "      <td>30.0</td>\n",
       "      <td>36.0</td>\n",
       "      <td>52.0</td>\n",
       "      <td>155.0</td>\n",
       "      <td>276.0</td>\n",
       "      <td>601.0</td>\n",
       "    </tr>\n",
       "    <tr>\n",
       "      <th>2</th>\n",
       "      <td>0.0</td>\n",
       "      <td>7.0</td>\n",
       "      <td>11.0</td>\n",
       "      <td>17.0</td>\n",
       "      <td>25.0</td>\n",
       "      <td>30.0</td>\n",
       "      <td>52.0</td>\n",
       "      <td>138.0</td>\n",
       "      <td>343.0</td>\n",
       "      <td>623.0</td>\n",
       "    </tr>\n",
       "    <tr>\n",
       "      <th>3</th>\n",
       "      <td>1.0</td>\n",
       "      <td>24.0</td>\n",
       "      <td>60.0</td>\n",
       "      <td>54.0</td>\n",
       "      <td>75.0</td>\n",
       "      <td>87.0</td>\n",
       "      <td>87.0</td>\n",
       "      <td>137.0</td>\n",
       "      <td>80.0</td>\n",
       "      <td>605.0</td>\n",
       "    </tr>\n",
       "    <tr>\n",
       "      <th>4</th>\n",
       "      <td>0.0</td>\n",
       "      <td>12.0</td>\n",
       "      <td>35.0</td>\n",
       "      <td>32.0</td>\n",
       "      <td>40.0</td>\n",
       "      <td>49.0</td>\n",
       "      <td>82.0</td>\n",
       "      <td>194.0</td>\n",
       "      <td>144.0</td>\n",
       "      <td>588.0</td>\n",
       "    </tr>\n",
       "    <tr>\n",
       "      <th>5</th>\n",
       "      <td>0.0</td>\n",
       "      <td>21.0</td>\n",
       "      <td>45.0</td>\n",
       "      <td>82.0</td>\n",
       "      <td>84.0</td>\n",
       "      <td>87.0</td>\n",
       "      <td>119.0</td>\n",
       "      <td>162.0</td>\n",
       "      <td>35.0</td>\n",
       "      <td>635.0</td>\n",
       "    </tr>\n",
       "    <tr>\n",
       "      <th>6</th>\n",
       "      <td>3.0</td>\n",
       "      <td>75.0</td>\n",
       "      <td>145.0</td>\n",
       "      <td>116.0</td>\n",
       "      <td>100.0</td>\n",
       "      <td>62.0</td>\n",
       "      <td>51.0</td>\n",
       "      <td>11.0</td>\n",
       "      <td>0.0</td>\n",
       "      <td>563.0</td>\n",
       "    </tr>\n",
       "    <tr>\n",
       "      <th>7</th>\n",
       "      <td>3.0</td>\n",
       "      <td>20.0</td>\n",
       "      <td>51.0</td>\n",
       "      <td>50.0</td>\n",
       "      <td>42.0</td>\n",
       "      <td>67.0</td>\n",
       "      <td>75.0</td>\n",
       "      <td>133.0</td>\n",
       "      <td>107.0</td>\n",
       "      <td>548.0</td>\n",
       "    </tr>\n",
       "    <tr>\n",
       "      <th>8</th>\n",
       "      <td>1.0</td>\n",
       "      <td>44.0</td>\n",
       "      <td>69.0</td>\n",
       "      <td>78.0</td>\n",
       "      <td>52.0</td>\n",
       "      <td>50.0</td>\n",
       "      <td>98.0</td>\n",
       "      <td>145.0</td>\n",
       "      <td>98.0</td>\n",
       "      <td>635.0</td>\n",
       "    </tr>\n",
       "    <tr>\n",
       "      <th>sum</th>\n",
       "      <td>8.0</td>\n",
       "      <td>211.0</td>\n",
       "      <td>438.0</td>\n",
       "      <td>451.0</td>\n",
       "      <td>448.0</td>\n",
       "      <td>468.0</td>\n",
       "      <td>616.0</td>\n",
       "      <td>1075.0</td>\n",
       "      <td>1083.0</td>\n",
       "      <td>4798.0</td>\n",
       "    </tr>\n",
       "  </tbody>\n",
       "</table>\n",
       "</div>"
      ],
      "text/plain": [
       "proba          0.2    0.3    0.4    0.5    0.6    0.7    0.8     0.9     1.0  \\\n",
       "predict_label                                                                  \n",
       "1              0.0    8.0   22.0   22.0   30.0   36.0   52.0   155.0   276.0   \n",
       "2              0.0    7.0   11.0   17.0   25.0   30.0   52.0   138.0   343.0   \n",
       "3              1.0   24.0   60.0   54.0   75.0   87.0   87.0   137.0    80.0   \n",
       "4              0.0   12.0   35.0   32.0   40.0   49.0   82.0   194.0   144.0   \n",
       "5              0.0   21.0   45.0   82.0   84.0   87.0  119.0   162.0    35.0   \n",
       "6              3.0   75.0  145.0  116.0  100.0   62.0   51.0    11.0     0.0   \n",
       "7              3.0   20.0   51.0   50.0   42.0   67.0   75.0   133.0   107.0   \n",
       "8              1.0   44.0   69.0   78.0   52.0   50.0   98.0   145.0    98.0   \n",
       "sum            8.0  211.0  438.0  451.0  448.0  468.0  616.0  1075.0  1083.0   \n",
       "\n",
       "proba             sum  \n",
       "predict_label          \n",
       "1               601.0  \n",
       "2               623.0  \n",
       "3               605.0  \n",
       "4               588.0  \n",
       "5               635.0  \n",
       "6               563.0  \n",
       "7               548.0  \n",
       "8               635.0  \n",
       "sum            4798.0  "
      ]
     },
     "execution_count": 14,
     "metadata": {},
     "output_type": "execute_result"
    },
    {
     "data": {
      "image/png": "[encoded data removed]",
      "text/plain": [
       "<matplotlib.figure.Figure at 0x11384978>"
      ]
     },
     "metadata": {},
     "output_type": "display_data"
    }
   ],
   "source": [
    "sel_data_stat = plot_class_proba(y_pred_class, y_pred_prob.max(axis = 1), label_dic)\n",
    "sel_data_stat"
   ]
  },
  {
   "cell_type": "markdown",
   "metadata": {},
   "source": [
    "## KFold"
   ]
  },
  {
   "cell_type": "code",
   "execution_count": 33,
   "metadata": {
    "ExecuteTime": {
     "end_time": "2018-10-26T06:21:35.515542Z",
     "start_time": "2018-10-26T05:38:22.355222Z"
    }
   },
   "outputs": [
    {
     "name": "stdout",
     "output_type": "stream",
     "text": [
      "data_raw:  (15992, 5)\n",
      "---- 1\n",
      "0.9521613382318456\n",
      "accuracy_score:  0.7686777117849328\n",
      "             precision    recall  f1-score   support\n",
      "\n",
      "          1       0.93      0.90      0.91       398\n",
      "          2       0.89      0.88      0.88       371\n",
      "          3       0.71      0.74      0.72       407\n",
      "          4       0.82      0.83      0.82       385\n",
      "          5       0.75      0.78      0.76       421\n",
      "          6       0.55      0.51      0.53       416\n",
      "          7       0.79      0.74      0.77       395\n",
      "          8       0.74      0.78      0.76       406\n",
      "\n",
      "avg / total       0.77      0.77      0.77      3199\n",
      "\n",
      "confusion_matrix: \n",
      "[[360   1   2   2   6  19   4   4]\n",
      " [  4 325  11   3   9   8   6   5]\n",
      " [  3  15 302   3  31  31   2  20]\n",
      " [  1   2   6 318   8  35  10   5]\n",
      " [  2   4  34  10 329  24   8  10]\n",
      " [ 10   9  42  41  41 214  27  32]\n",
      " [  4   6   9   9   5  32 294  36]\n",
      " [  5   2  21   3  11  27  20 317]]\n",
      "---- 2\n",
      "0.9542718674274994\n",
      "accuracy_score:  0.7833698030634574\n",
      "             precision    recall  f1-score   support\n",
      "\n",
      "          1       0.88      0.95      0.91       358\n",
      "          2       0.89      0.89      0.89       408\n",
      "          3       0.74      0.73      0.74       406\n",
      "          4       0.84      0.84      0.84       435\n",
      "          5       0.73      0.77      0.75       387\n",
      "          6       0.58      0.55      0.56       391\n",
      "          7       0.84      0.78      0.80       419\n",
      "          8       0.76      0.76      0.76       395\n",
      "\n",
      "avg / total       0.78      0.78      0.78      3199\n",
      "\n",
      "confusion_matrix: \n",
      "[[340   0   0   3   5  10   0   0]\n",
      " [  7 364  11   2   8   6   4   6]\n",
      " [  2  19 296   8  26  29   4  22]\n",
      " [ 11   4   6 367   9  24   9   5]\n",
      " [  3   8  31   7 297  28   4   9]\n",
      " [ 12   8  25  35  43 215  30  23]\n",
      " [  4   6   8   7   7  32 325  30]\n",
      " [  9   1  21   9  11  29  13 302]]\n",
      "---- 3\n",
      "0.9523214006565578\n",
      "accuracy_score:  0.7689180737961225\n",
      "             precision    recall  f1-score   support\n",
      "\n",
      "          1       0.88      0.94      0.91       411\n",
      "          2       0.88      0.92      0.90       401\n",
      "          3       0.72      0.74      0.73       384\n",
      "          4       0.81      0.82      0.82       404\n",
      "          5       0.77      0.73      0.75       416\n",
      "          6       0.53      0.51      0.52       384\n",
      "          7       0.78      0.73      0.76       391\n",
      "          8       0.74      0.74      0.74       407\n",
      "\n",
      "avg / total       0.77      0.77      0.77      3198\n",
      "\n",
      "confusion_matrix: \n",
      "[[388   1   4   3   4   9   1   1]\n",
      " [  4 367   8   6   3   9   1   3]\n",
      " [  3  22 283   5  22  18   8  23]\n",
      " [  4   2   5 332   6  36  14   5]\n",
      " [ 14   7  37   6 304  29   8  11]\n",
      " [  9  11  31  37  40 196  27  33]\n",
      " [  6   2   4   9  10  42 287  31]\n",
      " [ 11   4  19  12   7  30  22 302]]\n",
      "---- 4\n",
      "0.9491949351258402\n",
      "accuracy_score:  0.7639149468417761\n",
      "             precision    recall  f1-score   support\n",
      "\n",
      "          1       0.92      0.93      0.92       419\n",
      "          2       0.88      0.91      0.90       399\n",
      "          3       0.71      0.70      0.70       407\n",
      "          4       0.76      0.82      0.79       374\n",
      "          5       0.69      0.76      0.72       399\n",
      "          6       0.57      0.49      0.53       407\n",
      "          7       0.79      0.74      0.76       395\n",
      "          8       0.76      0.77      0.76       398\n",
      "\n",
      "avg / total       0.76      0.76      0.76      3198\n",
      "\n",
      "confusion_matrix: \n",
      "[[389   1   5   4   4  13   1   2]\n",
      " [  1 364   8   2   8   5   6   5]\n",
      " [  4  17 283  12  31  25   5  30]\n",
      " [ 10   3  10 307   7  21  10   6]\n",
      " [  3  10  35  11 303  27   2   8]\n",
      " [  8  11  29  44  59 199  37  20]\n",
      " [  5   3  12  11  10  36 293  25]\n",
      " [  3   5  17  11  17  22  18 305]]\n",
      "---- 5\n",
      "0.953259340315773\n",
      "accuracy_score:  0.7632895559724828\n",
      "             precision    recall  f1-score   support\n",
      "\n",
      "          1       0.92      0.92      0.92       413\n",
      "          2       0.86      0.91      0.89       420\n",
      "          3       0.71      0.70      0.71       395\n",
      "          4       0.79      0.79      0.79       401\n",
      "          5       0.73      0.77      0.75       376\n",
      "          6       0.52      0.52      0.52       401\n",
      "          7       0.80      0.72      0.76       399\n",
      "          8       0.75      0.77      0.76       393\n",
      "\n",
      "avg / total       0.76      0.76      0.76      3198\n",
      "\n",
      "confusion_matrix: \n",
      "[[378   0   2   6   7  18   0   2]\n",
      " [  2 384   9   1   4  11   4   5]\n",
      " [  3  27 277   3  28  31   5  21]\n",
      " [  3   3  13 317   5  48   8   4]\n",
      " [  1  12  25  12 289  21   2  14]\n",
      " [ 12  15  32  39  47 207  24  25]\n",
      " [ 10   2  11  13  12  35 288  28]\n",
      " [  4   1  20   9   4  24  30 301]]\n",
      "kfold_result:  (15992, 7)\n"
     ]
    }
   ],
   "source": [
    "pipeline = Pipeline([\n",
    "    ('features', FeatureUnion([\n",
    "        ('tf_idf', Pipeline([\n",
    "            ('counts', CountVectorizer()),\n",
    "            ('tf_idf', TfidfTransformer()),\n",
    "            ('chi', SelectKBest(chi2, k=20000))\n",
    "        ])),\n",
    "        ('len_stats', StatsFeatures())\n",
    "    ])),\n",
    "    ('classifier', XGBClassifier(max_depth=7,objective='multi:softmax', num_class=8))\n",
    "])\n",
    "\n",
    "filename = 'cac_industry_label_proba_20181025.xlsx'\n",
    "cal_kfold(title_content, label, pipeline, 'industry_result', filename)"
   ]
  },
  {
   "cell_type": "markdown",
   "metadata": {
    "ExecuteTime": {
     "end_time": "2018-06-13T09:51:12.095774Z",
     "start_time": "2018-06-13T09:51:11.751754Z"
    },
    "collapsed": true
   },
   "source": [
    "## 模型保存"
   ]
  },
  {
   "cell_type": "code",
   "execution_count": 15,
   "metadata": {
    "ExecuteTime": {
     "end_time": "2018-10-26T01:51:44.630161Z",
     "start_time": "2018-10-26T01:40:55.079271Z"
    }
   },
   "outputs": [
    {
     "name": "stdout",
     "output_type": "stream",
     "text": [
      "0.9405327663831916\n"
     ]
    },
    {
     "data": {
      "text/plain": [
       "Pipeline(memory=None,\n",
       "     steps=[('features', FeatureUnion(n_jobs=1,\n",
       "       transformer_list=[('tf_idf', Pipeline(memory=None,\n",
       "     steps=[('counts', CountVectorizer(analyzer='word', binary=False, decode_error='strict',\n",
       "        dtype=<class 'numpy.int64'>, encoding='utf-8', input='content',\n",
       "        lowercase=True, max_df=1.0...tate=0, reg_alpha=0, reg_lambda=1, scale_pos_weight=1,\n",
       "       seed=None, silent=True, subsample=1))])"
      ]
     },
     "execution_count": 15,
     "metadata": {},
     "output_type": "execute_result"
    }
   ],
   "source": [
    "pipeline = Pipeline([\n",
    "    ('features', FeatureUnion([\n",
    "        ('tf_idf', Pipeline([\n",
    "            ('counts', CountVectorizer()),\n",
    "            ('tf_idf', TfidfTransformer()),\n",
    "            ('chi', SelectKBest(chi2, k=20000))\n",
    "        ])),\n",
    "        ('len_stats', StatsFeatures())\n",
    "    ])),\n",
    "    ('classifier', XGBClassifier(max_depth=7,objective='multi:softmax', num_class=8))\n",
    "])\n",
    "\n",
    "pipeline.fit(title_content, label)\n",
    "print(pipeline.score(title_content, label))\n",
    "pipeline"
   ]
  },
  {
   "cell_type": "code",
   "execution_count": 16,
   "metadata": {
    "ExecuteTime": {
     "end_time": "2018-10-26T01:51:49.955466Z",
     "start_time": "2018-10-26T01:51:44.914178Z"
    }
   },
   "outputs": [
    {
     "data": {
      "text/plain": [
       "['model/cac_industy_1026.pkl.z']"
      ]
     },
     "execution_count": 16,
     "metadata": {},
     "output_type": "execute_result"
    }
   ],
   "source": [
    "from sklearn.externals import joblib\n",
    "joblib.dump(pipeline, \"model/cac_industy_1026.pkl.z\")  "
   ]
  },
  {
   "cell_type": "markdown",
   "metadata": {},
   "source": [
    "# 网信办--倾向性"
   ]
  },
  {
   "cell_type": "markdown",
   "metadata": {},
   "source": [
    "## 导入数据"
   ]
  },
  {
   "cell_type": "code",
   "execution_count": 17,
   "metadata": {
    "ExecuteTime": {
     "end_time": "2018-10-26T03:15:26.430707Z",
     "start_time": "2018-10-26T03:15:26.026684Z"
    }
   },
   "outputs": [
    {
     "name": "stdout",
     "output_type": "stream",
     "text": [
      "title num:  7915\n",
      "['shopping mall seek rodent', 'tonight']\n",
      "content num:  7915\n",
      "title_content num:  7915\n",
      "label num:  7915\n",
      "['中', '中', '中', '中', '中']\n"
     ]
    }
   ],
   "source": [
    "cac_filepath_class = 'tendency_result/corpus/'\n",
    "title_content, label = title_content_label(cac_filepath_class)"
   ]
  },
  {
   "cell_type": "code",
   "execution_count": 18,
   "metadata": {
    "ExecuteTime": {
     "end_time": "2018-10-26T03:15:26.752725Z",
     "start_time": "2018-10-26T03:15:26.739725Z"
    }
   },
   "outputs": [
    {
     "data": {
      "text/plain": [
       "{-1: '负', 0: '中', 1: '正'}"
      ]
     },
     "execution_count": 18,
     "metadata": {},
     "output_type": "execute_result"
    }
   ],
   "source": [
    "label_dic={'中': 0, '正': 1, '负': -1}\n",
    "class_name_dict = {v: k for k, v in label_dic.items()}\n",
    "class_name_dict"
   ]
  },
  {
   "cell_type": "code",
   "execution_count": 19,
   "metadata": {
    "ExecuteTime": {
     "end_time": "2018-10-26T03:15:27.566772Z",
     "start_time": "2018-10-26T03:15:27.551771Z"
    }
   },
   "outputs": [
    {
     "data": {
      "text/plain": [
       "[0, 0, 0, 0, 0]"
      ]
     },
     "execution_count": 19,
     "metadata": {},
     "output_type": "execute_result"
    }
   ],
   "source": [
    "label = [label_dic[l] for l in label]\n",
    "label[:5]"
   ]
  },
  {
   "cell_type": "code",
   "execution_count": 20,
   "metadata": {
    "ExecuteTime": {
     "end_time": "2018-10-26T03:15:28.324815Z",
     "start_time": "2018-10-26T03:15:28.286813Z"
    }
   },
   "outputs": [
    {
     "name": "stdout",
     "output_type": "stream",
     "text": [
      "训练集： 5540\n",
      "训练集-各类数量： Counter({-1: 2069, 0: 2031, 1: 1440})\n",
      "测试集： 2375\n",
      "测试集-各类数量： Counter({0: 911, -1: 897, 1: 567})\n"
     ]
    }
   ],
   "source": [
    "X_train, X_test, y_train, y_test = train_test_split(title_content, label, test_size=0.3, random_state=42)\n",
    "print('训练集：',len(y_train))\n",
    "print('训练集-各类数量：',Counter(y_train))\n",
    "print('测试集：',len(y_test))\n",
    "print('测试集-各类数量：',Counter(y_test))"
   ]
  },
  {
   "cell_type": "markdown",
   "metadata": {},
   "source": [
    "## train-test"
   ]
  },
  {
   "cell_type": "code",
   "execution_count": 41,
   "metadata": {
    "ExecuteTime": {
     "end_time": "2018-10-25T09:50:39.008301Z",
     "start_time": "2018-10-25T09:50:38.989300Z"
    },
    "collapsed": true
   },
   "outputs": [],
   "source": [
    "# class StatsFeatures_tend(BaseEstimator, TransformerMixin):\n",
    "    \n",
    "#     def __init__(self):\n",
    "#         pass\n",
    "\n",
    "#     def fit(self, X, y=None):\n",
    "#         return self\n",
    "\n",
    "#     def getcnt(self,x): \n",
    "#         words = x.split()\n",
    "#         return len(list(set(words)))\n",
    "    \n",
    "#     def transform(self, X):\n",
    "#         data = []\n",
    "#         for x in X:\n",
    "#             words = x.split()\n",
    "#             if len(words) == 0:\n",
    "#                 length  = 1\n",
    "#             else :\n",
    "#                 length = len(words)\n",
    "#             data.append([len(x),self.getcnt(x),self.getcnt(x)/length])            \n",
    "#         return data"
   ]
  },
  {
   "cell_type": "code",
   "execution_count": 21,
   "metadata": {
    "ExecuteTime": {
     "end_time": "2018-10-26T03:17:36.718159Z",
     "start_time": "2018-10-26T03:16:00.156636Z"
    }
   },
   "outputs": [
    {
     "name": "stdout",
     "output_type": "stream",
     "text": [
      "0.9238267148014441\n"
     ]
    },
    {
     "data": {
      "text/plain": [
       "Pipeline(memory=None,\n",
       "     steps=[('features', FeatureUnion(n_jobs=1,\n",
       "       transformer_list=[('tf_idf', Pipeline(memory=None,\n",
       "     steps=[('counts', CountVectorizer(analyzer='word', binary=False, decode_error='strict',\n",
       "        dtype=<class 'numpy.int64'>, encoding='utf-8', input='content',\n",
       "        lowercase=True, max_df=0.9...tate=0, reg_alpha=0, reg_lambda=1, scale_pos_weight=1,\n",
       "       seed=None, silent=True, subsample=1))])"
      ]
     },
     "execution_count": 21,
     "metadata": {},
     "output_type": "execute_result"
    }
   ],
   "source": [
    "pipeline = Pipeline([\n",
    "    ('features', FeatureUnion([\n",
    "        ('tf_idf', Pipeline([\n",
    "            ('counts', CountVectorizer(max_df=0.95, min_df=2)),\n",
    "            ('tf_idf', TfidfTransformer()),\n",
    "            ('chi', SelectKBest(chi2, k=20000))\n",
    "        ])),\n",
    "        ('len_stats', StatsFeatures())\n",
    "    ])),\n",
    "    ('classifier', XGBClassifier(max_depth=7,objective='multi:softmax', num_class=3))\n",
    "])\n",
    "\n",
    "pipeline.fit(X_train, y_train)\n",
    "print(pipeline.score(X_train, y_train))\n",
    "pipeline"
   ]
  },
  {
   "cell_type": "code",
   "execution_count": 22,
   "metadata": {
    "ExecuteTime": {
     "end_time": "2018-10-26T03:17:37.817222Z",
     "start_time": "2018-10-26T03:17:36.865167Z"
    }
   },
   "outputs": [
    {
     "name": "stdout",
     "output_type": "stream",
     "text": [
      "accuracy_score:  0.720421052631579\n",
      "             precision    recall  f1-score   support\n",
      "\n",
      "         -1       0.76      0.76      0.76       897\n",
      "          0       0.68      0.76      0.72       911\n",
      "          1       0.74      0.60      0.66       567\n",
      "\n",
      "avg / total       0.72      0.72      0.72      2375\n",
      "\n",
      "confusion_matrix: \n",
      "[[680 171  46]\n",
      " [147 688  76]\n",
      " [ 70 154 343]]\n"
     ]
    }
   ],
   "source": [
    "y_pred_class = pipeline.predict(X_test)\n",
    "print('accuracy_score: ', metrics.accuracy_score(y_test, y_pred_class)) # 指所有分类正确的百分比\n",
    "print(metrics.classification_report(y_test, y_pred_class))\n",
    "print('confusion_matrix: ')\n",
    "print( metrics.confusion_matrix(y_test, y_pred_class))"
   ]
  },
  {
   "cell_type": "markdown",
   "metadata": {
    "ExecuteTime": {
     "end_time": "2018-10-25T06:47:41.143403Z",
     "start_time": "2018-10-25T06:47:41.135402Z"
    }
   },
   "source": [
    "## 概率结果"
   ]
  },
  {
   "cell_type": "code",
   "execution_count": 23,
   "metadata": {
    "ExecuteTime": {
     "end_time": "2018-10-26T03:17:39.290306Z",
     "start_time": "2018-10-26T03:17:37.982231Z"
    }
   },
   "outputs": [
    {
     "data": {
      "text/plain": [
       "<matplotlib.axes._subplots.AxesSubplot at 0x11276f60>"
      ]
     },
     "execution_count": 23,
     "metadata": {},
     "output_type": "execute_result"
    },
    {
     "data": {
      "image/png": "[encoded data removed]",
      "text/plain": [
       "<matplotlib.figure.Figure at 0x113ef6d8>"
      ]
     },
     "metadata": {},
     "output_type": "display_data"
    }
   ],
   "source": [
    "y_pred_prob = pipeline.predict_proba(X_test)\n",
    "pd.DataFrame(y_pred_prob.max(axis = 1)).plot.hist(bins = 100)"
   ]
  },
  {
   "cell_type": "code",
   "execution_count": 24,
   "metadata": {
    "ExecuteTime": {
     "end_time": "2018-10-26T03:17:39.824337Z",
     "start_time": "2018-10-26T03:17:39.508319Z"
    }
   },
   "outputs": [
    {
     "data": {
      "text/html": [
       "<div>\n",
       "<style scoped>\n",
       "    .dataframe tbody tr th:only-of-type {\n",
       "        vertical-align: middle;\n",
       "    }\n",
       "\n",
       "    .dataframe tbody tr th {\n",
       "        vertical-align: top;\n",
       "    }\n",
       "\n",
       "    .dataframe thead th {\n",
       "        text-align: right;\n",
       "    }\n",
       "</style>\n",
       "<table border=\"1\" class=\"dataframe\">\n",
       "  <thead>\n",
       "    <tr style=\"text-align: right;\">\n",
       "      <th>proba</th>\n",
       "      <th>0.3</th>\n",
       "      <th>0.4</th>\n",
       "      <th>0.5</th>\n",
       "      <th>0.6</th>\n",
       "      <th>0.7</th>\n",
       "      <th>0.8</th>\n",
       "      <th>0.9</th>\n",
       "      <th>1.0</th>\n",
       "      <th>sum</th>\n",
       "    </tr>\n",
       "    <tr>\n",
       "      <th>predict_label</th>\n",
       "      <th></th>\n",
       "      <th></th>\n",
       "      <th></th>\n",
       "      <th></th>\n",
       "      <th></th>\n",
       "      <th></th>\n",
       "      <th></th>\n",
       "      <th></th>\n",
       "      <th></th>\n",
       "    </tr>\n",
       "  </thead>\n",
       "  <tbody>\n",
       "    <tr>\n",
       "      <th>-1</th>\n",
       "      <td>3.0</td>\n",
       "      <td>47.0</td>\n",
       "      <td>126.0</td>\n",
       "      <td>121.0</td>\n",
       "      <td>129.0</td>\n",
       "      <td>170.0</td>\n",
       "      <td>214.0</td>\n",
       "      <td>87.0</td>\n",
       "      <td>897.0</td>\n",
       "    </tr>\n",
       "    <tr>\n",
       "      <th>0</th>\n",
       "      <td>1.0</td>\n",
       "      <td>102.0</td>\n",
       "      <td>262.0</td>\n",
       "      <td>284.0</td>\n",
       "      <td>230.0</td>\n",
       "      <td>112.0</td>\n",
       "      <td>22.0</td>\n",
       "      <td>0.0</td>\n",
       "      <td>1013.0</td>\n",
       "    </tr>\n",
       "    <tr>\n",
       "      <th>1</th>\n",
       "      <td>1.0</td>\n",
       "      <td>48.0</td>\n",
       "      <td>69.0</td>\n",
       "      <td>81.0</td>\n",
       "      <td>70.0</td>\n",
       "      <td>74.0</td>\n",
       "      <td>107.0</td>\n",
       "      <td>15.0</td>\n",
       "      <td>465.0</td>\n",
       "    </tr>\n",
       "    <tr>\n",
       "      <th>sum</th>\n",
       "      <td>5.0</td>\n",
       "      <td>197.0</td>\n",
       "      <td>457.0</td>\n",
       "      <td>486.0</td>\n",
       "      <td>429.0</td>\n",
       "      <td>356.0</td>\n",
       "      <td>343.0</td>\n",
       "      <td>102.0</td>\n",
       "      <td>2375.0</td>\n",
       "    </tr>\n",
       "  </tbody>\n",
       "</table>\n",
       "</div>"
      ],
      "text/plain": [
       "proba          0.3    0.4    0.5    0.6    0.7    0.8    0.9    1.0     sum\n",
       "predict_label                                                              \n",
       "-1             3.0   47.0  126.0  121.0  129.0  170.0  214.0   87.0   897.0\n",
       "0              1.0  102.0  262.0  284.0  230.0  112.0   22.0    0.0  1013.0\n",
       "1              1.0   48.0   69.0   81.0   70.0   74.0  107.0   15.0   465.0\n",
       "sum            5.0  197.0  457.0  486.0  429.0  356.0  343.0  102.0  2375.0"
      ]
     },
     "execution_count": 24,
     "metadata": {},
     "output_type": "execute_result"
    },
    {
     "data": {
      "image/png": "[encoded data removed]",
      "text/plain": [
       "<matplotlib.figure.Figure at 0x10648ba8>"
      ]
     },
     "metadata": {},
     "output_type": "display_data"
    }
   ],
   "source": [
    "sel_data_stat = plot_class_proba(y_pred_class, y_pred_prob.max(axis = 1), label_dic)\n",
    "sel_data_stat"
   ]
  },
  {
   "cell_type": "markdown",
   "metadata": {},
   "source": [
    "## KFold"
   ]
  },
  {
   "cell_type": "code",
   "execution_count": 27,
   "metadata": {
    "ExecuteTime": {
     "end_time": "2018-10-26T03:49:48.272638Z",
     "start_time": "2018-10-26T03:40:32.320839Z"
    }
   },
   "outputs": [
    {
     "name": "stdout",
     "output_type": "stream",
     "text": [
      "data_raw:  (7915, 5)\n",
      "---- 1\n",
      "0.9134554643082754\n",
      "accuracy_score:  0.7182564750473784\n",
      "             precision    recall  f1-score   support\n",
      "\n",
      "         -1       0.77      0.75      0.76       593\n",
      "          0       0.66      0.77      0.71       596\n",
      "          1       0.76      0.60      0.67       394\n",
      "\n",
      "avg / total       0.72      0.72      0.72      1583\n",
      "\n",
      "confusion_matrix: \n",
      "[[446 120  27]\n",
      " [ 93 456  47]\n",
      " [ 40 119 235]]\n",
      "---- 2\n",
      "0.9164560960202148\n",
      "accuracy_score:  0.7195198989260897\n",
      "             precision    recall  f1-score   support\n",
      "\n",
      "         -1       0.79      0.72      0.76       588\n",
      "          0       0.66      0.79      0.72       600\n",
      "          1       0.73      0.61      0.66       395\n",
      "\n",
      "avg / total       0.73      0.72      0.72      1583\n",
      "\n",
      "confusion_matrix: \n",
      "[[426 127  35]\n",
      " [ 73 473  54]\n",
      " [ 39 116 240]]\n",
      "---- 3\n",
      "0.9148768161718257\n",
      "accuracy_score:  0.7144662034112444\n",
      "             precision    recall  f1-score   support\n",
      "\n",
      "         -1       0.78      0.76      0.77       580\n",
      "          0       0.65      0.79      0.71       574\n",
      "          1       0.76      0.56      0.65       429\n",
      "\n",
      "avg / total       0.72      0.71      0.71      1583\n",
      "\n",
      "confusion_matrix: \n",
      "[[438 110  32]\n",
      " [ 78 451  45]\n",
      " [ 49 138 242]]\n",
      "---- 4\n",
      "0.9147188881869868\n",
      "accuracy_score:  0.7119393556538218\n",
      "             precision    recall  f1-score   support\n",
      "\n",
      "         -1       0.76      0.75      0.76       598\n",
      "          0       0.67      0.75      0.70       593\n",
      "          1       0.71      0.60      0.65       392\n",
      "\n",
      "avg / total       0.71      0.71      0.71      1583\n",
      "\n",
      "confusion_matrix: \n",
      "[[449 112  37]\n",
      " [ 93 442  58]\n",
      " [ 47 109 236]]\n",
      "---- 5\n",
      "0.9170878079595705\n",
      "accuracy_score:  0.7113076437144662\n",
      "             precision    recall  f1-score   support\n",
      "\n",
      "         -1       0.78      0.74      0.76       607\n",
      "          0       0.63      0.76      0.69       579\n",
      "          1       0.76      0.59      0.67       397\n",
      "\n",
      "avg / total       0.72      0.71      0.71      1583\n",
      "\n",
      "confusion_matrix: \n",
      "[[450 127  30]\n",
      " [ 93 440  46]\n",
      " [ 32 129 236]]\n",
      "kfold_result:  (7915, 7)\n"
     ]
    }
   ],
   "source": [
    "pipeline = Pipeline([\n",
    "    ('features', FeatureUnion([\n",
    "        ('tf_idf', Pipeline([\n",
    "            ('counts', CountVectorizer()),\n",
    "            ('tf_idf', TfidfTransformer()),\n",
    "            ('chi', SelectKBest(chi2, k=20000))\n",
    "        ])),\n",
    "        ('len_stats', StatsFeatures())\n",
    "    ])),\n",
    "    ('classifier', XGBClassifier(max_depth=7,objective='multi:softmax', num_class=3))\n",
    "])\n",
    "\n",
    "filename = 'cac_tendency_label_proba_20181026.xlsx'\n",
    "cal_kfold(title_content, label, pipeline, 'tendency_result', filename)"
   ]
  },
  {
   "cell_type": "markdown",
   "metadata": {
    "ExecuteTime": {
     "end_time": "2018-06-13T09:51:12.095774Z",
     "start_time": "2018-06-13T09:51:11.751754Z"
    },
    "collapsed": true
   },
   "source": [
    "## 模型保存"
   ]
  },
  {
   "cell_type": "code",
   "execution_count": 25,
   "metadata": {
    "ExecuteTime": {
     "end_time": "2018-10-26T03:19:45.627532Z",
     "start_time": "2018-10-26T03:17:39.959344Z"
    }
   },
   "outputs": [
    {
     "name": "stdout",
     "output_type": "stream",
     "text": [
      "0.9020846493998737\n"
     ]
    },
    {
     "data": {
      "text/plain": [
       "Pipeline(memory=None,\n",
       "     steps=[('features', FeatureUnion(n_jobs=1,\n",
       "       transformer_list=[('tf_idf', Pipeline(memory=None,\n",
       "     steps=[('counts', CountVectorizer(analyzer='word', binary=False, decode_error='strict',\n",
       "        dtype=<class 'numpy.int64'>, encoding='utf-8', input='content',\n",
       "        lowercase=True, max_df=1.0...tate=0, reg_alpha=0, reg_lambda=1, scale_pos_weight=1,\n",
       "       seed=None, silent=True, subsample=1))])"
      ]
     },
     "execution_count": 25,
     "metadata": {},
     "output_type": "execute_result"
    }
   ],
   "source": [
    "pipeline = Pipeline([\n",
    "    ('features', FeatureUnion([\n",
    "        ('tf_idf', Pipeline([\n",
    "            ('counts', CountVectorizer()),\n",
    "            ('tf_idf', TfidfTransformer()),\n",
    "            ('chi', SelectKBest(chi2, k=20000))\n",
    "        ])),\n",
    "        ('len_stats', StatsFeatures())\n",
    "    ])),\n",
    "    ('classifier', XGBClassifier(max_depth=7,objective='multi:softmax', num_class=3))\n",
    "])\n",
    "\n",
    "pipeline.fit(title_content, label)\n",
    "print(pipeline.score(title_content, label))\n",
    "pipeline"
   ]
  },
  {
   "cell_type": "code",
   "execution_count": 26,
   "metadata": {
    "ExecuteTime": {
     "end_time": "2018-10-26T03:19:48.766712Z",
     "start_time": "2018-10-26T03:19:45.795542Z"
    }
   },
   "outputs": [
    {
     "data": {
      "text/plain": [
       "['model/cac_tendency_1026.pkl.z']"
      ]
     },
     "execution_count": 26,
     "metadata": {},
     "output_type": "execute_result"
    }
   ],
   "source": [
    "from sklearn.externals import joblib\n",
    "joblib.dump(pipeline, \"model/cac_tendency_1026.pkl.z\")  "
   ]
  },
  {
   "cell_type": "markdown",
   "metadata": {},
   "source": [
    "# 保存本文件"
   ]
  },
  {
   "cell_type": "code",
   "execution_count": 56,
   "metadata": {
    "ExecuteTime": {
     "end_time": "2018-07-03T06:53:13.560161Z",
     "start_time": "2018-07-03T06:53:13.537160Z"
    },
    "collapsed": true
   },
   "outputs": [],
   "source": [
    "if 0:\n",
    "    import datetime as dt\n",
    "    \n",
    "    def output_HTML(read_file, output_file):\n",
    "        from nbconvert import HTMLExporter\n",
    "        import codecs\n",
    "        import nbformat\n",
    "        exporter = HTMLExporter()\n",
    "        # read_file is '.ipynb', output_file is '.html'\n",
    "        output_notebook = nbformat.read(read_file, as_version=4)\n",
    "        output, resources = exporter.from_notebook_node(output_notebook)\n",
    "        codecs.open(output_file, 'w', encoding='utf-8').write(output)\n",
    "\n",
    "    html_file_folder = 'html_files'\n",
    "    if not os.path.exists(html_file_folder):\n",
    "        os.makedirs(html_file_folder)\n",
    "\n",
    "    today = dt.datetime.now().strftime('%Y%m%d')\n",
    "    current_file = 'circ_cor_model_2_train.ipynb'\n",
    "    output_file = 'html_files\\%s_%s.html'%(os.path.splitext(current_file)[0], today)\n",
    "    output_HTML(current_file, output_file)"
   ]
  }
 ],
 "metadata": {
  "kernelspec": {
   "display_name": "Python 3",
   "language": "python",
   "name": "python3"
  },
  "language_info": {
   "codemirror_mode": {
    "name": "ipython",
    "version": 3
   },
   "file_extension": ".py",
   "mimetype": "text/x-python",
   "name": "python",
   "nbconvert_exporter": "python",
   "pygments_lexer": "ipython3",
   "version": "3.6.3"
  },
  "toc": {
   "nav_menu": {},
   "number_sections": true,
   "sideBar": true,
   "skip_h1_title": false,
   "title_cell": "Table of Contents",
   "title_sidebar": "Contents",
   "toc_cell": false,
   "toc_position": {
    "height": "calc(100% - 180px)",
    "left": "10px",
    "top": "150px",
    "width": "376px"
   },
   "toc_section_display": true,
   "toc_window_display": true
  },
  "varInspector": {
   "cols": {
    "lenName": 16,
    "lenType": 16,
    "lenVar": 40
   },
   "kernels_config": {
    "python": {
     "delete_cmd_postfix": "",
     "delete_cmd_prefix": "del ",
     "library": "var_list.py",
     "varRefreshCmd": "print(var_dic_list())"
    },
    "r": {
     "delete_cmd_postfix": ") ",
     "delete_cmd_prefix": "rm(",
     "library": "var_list.r",
     "varRefreshCmd": "cat(var_dic_list()) "
    }
   },
   "types_to_exclude": [
    "module",
    "function",
    "builtin_function_or_method",
    "instance",
    "_Feature"
   ],
   "window_display": false
  }
 },
 "nbformat": 4,
 "nbformat_minor": 2
}
