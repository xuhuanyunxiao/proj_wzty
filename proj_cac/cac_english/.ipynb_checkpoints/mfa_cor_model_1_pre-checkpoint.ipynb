{
 "cells": [
  {
   "cell_type": "markdown",
   "metadata": {},
   "source": [
    "- 保监会 相关性模型 1 预处理"
   ]
  },
  {
   "cell_type": "markdown",
   "metadata": {},
   "source": [
    "# 基本设置"
   ]
  },
  {
   "cell_type": "code",
   "execution_count": 1,
   "metadata": {
    "ExecuteTime": {
     "end_time": "2018-08-09T05:59:30.338656Z",
     "start_time": "2018-08-09T05:59:29.187590Z"
    },
    "collapsed": true
   },
   "outputs": [],
   "source": [
    "import jieba\n",
    "import sys\n",
    "import re\n",
    "import time\n",
    "import string\n",
    "\n",
    "%matplotlib inline\n",
    "import numpy as np\n",
    "import pandas as pd\n",
    "# import pre_cor\n",
    "import os\n",
    "from sqlalchemy import create_engine\n",
    "from pandas.io import sql\n",
    "\n",
    "import warnings\n",
    "warnings.filterwarnings('ignore')"
   ]
  },
  {
   "cell_type": "code",
   "execution_count": 2,
   "metadata": {
    "ExecuteTime": {
     "end_time": "2018-08-09T05:59:30.380658Z",
     "start_time": "2018-08-09T05:59:30.344656Z"
    },
    "collapsed": true
   },
   "outputs": [],
   "source": [
    "def set_ch():\n",
    "    '''\n",
    "    功能：设定绘图时显示中文\n",
    "    '''\t\n",
    "    from pylab import mpl\n",
    "    mpl.rcParams['font.sans-serif'] = ['FangSong'] # 指定默认字体\n",
    "    mpl.rcParams['axes.unicode_minus'] = False   # 解决保存图像是负号'-'显示为方块的问题\n",
    "set_ch()"
   ]
  },
  {
   "cell_type": "markdown",
   "metadata": {},
   "source": [
    "# 导入数据"
   ]
  },
  {
   "cell_type": "code",
   "execution_count": 3,
   "metadata": {
    "ExecuteTime": {
     "end_time": "2018-08-09T05:59:30.454662Z",
     "start_time": "2018-08-09T05:59:30.382658Z"
    },
    "collapsed": true
   },
   "outputs": [],
   "source": [
    "folder = '20180808' # 数据文件夹"
   ]
  },
  {
   "cell_type": "markdown",
   "metadata": {},
   "source": [
    "## 外交部-相关"
   ]
  },
  {
   "cell_type": "code",
   "execution_count": 88,
   "metadata": {
    "ExecuteTime": {
     "end_time": "2018-08-09T09:13:54.232792Z",
     "start_time": "2018-08-09T09:13:47.398401Z"
    }
   },
   "outputs": [
    {
     "name": "stdout",
     "output_type": "stream",
     "text": [
      "20180808/mfa_cor_english_2.xlsx\n",
      "(6000, 3)\n"
     ]
    },
    {
     "data": {
      "text/html": [
       "<div>\n",
       "<style scoped>\n",
       "    .dataframe tbody tr th:only-of-type {\n",
       "        vertical-align: middle;\n",
       "    }\n",
       "\n",
       "    .dataframe tbody tr th {\n",
       "        vertical-align: top;\n",
       "    }\n",
       "\n",
       "    .dataframe thead th {\n",
       "        text-align: right;\n",
       "    }\n",
       "</style>\n",
       "<table border=\"1\" class=\"dataframe\">\n",
       "  <thead>\n",
       "    <tr style=\"text-align: right;\">\n",
       "      <th></th>\n",
       "      <th>title</th>\n",
       "      <th>sensitivity</th>\n",
       "      <th>content</th>\n",
       "    </tr>\n",
       "  </thead>\n",
       "  <tbody>\n",
       "    <tr>\n",
       "      <th>0</th>\n",
       "      <td>Despite US Warning, Turkey Has No Plans to Aba...</td>\n",
       "      <td>NaN</td>\n",
       "      <td>Recai Berber, member of Turkish parliament fro...</td>\n",
       "    </tr>\n",
       "    <tr>\n",
       "      <th>1</th>\n",
       "      <td>Moscow denounces ’anti-Russian’ US nuclear policy</td>\n",
       "      <td>NaN</td>\n",
       "      <td>MOSCOW (AFP) - Moscow on Saturday (Feb 3) deno...</td>\n",
       "    </tr>\n",
       "    <tr>\n",
       "      <th>2</th>\n",
       "      <td>Iran’s Rouhani raps US nuclear expansion plan ...</td>\n",
       "      <td>NaN</td>\n",
       "      <td>Dubai: Iran accused the United States on Sunda...</td>\n",
       "    </tr>\n",
       "    <tr>\n",
       "      <th>3</th>\n",
       "      <td>Iranian President Hassan Rouhani raps new US n...</td>\n",
       "      <td>NaN</td>\n",
       "      <td>Iran accused the United States on Sunday of th...</td>\n",
       "    </tr>\n",
       "    <tr>\n",
       "      <th>4</th>\n",
       "      <td>Iran’s Rouhani raps new U.S. nuclear plan as t...</td>\n",
       "      <td>NaN</td>\n",
       "      <td>DUBAI (Reuters) - Iran accused the United Stat...</td>\n",
       "    </tr>\n",
       "  </tbody>\n",
       "</table>\n",
       "</div>"
      ],
      "text/plain": [
       "                                               title sensitivity  \\\n",
       "0  Despite US Warning, Turkey Has No Plans to Aba...         NaN   \n",
       "1  Moscow denounces ’anti-Russian’ US nuclear policy         NaN   \n",
       "2  Iran’s Rouhani raps US nuclear expansion plan ...         NaN   \n",
       "3  Iranian President Hassan Rouhani raps new US n...         NaN   \n",
       "4  Iran’s Rouhani raps new U.S. nuclear plan as t...         NaN   \n",
       "\n",
       "                                             content  \n",
       "0  Recai Berber, member of Turkish parliament fro...  \n",
       "1  MOSCOW (AFP) - Moscow on Saturday (Feb 3) deno...  \n",
       "2  Dubai: Iran accused the United States on Sunda...  \n",
       "3  Iran accused the United States on Sunday of th...  \n",
       "4  DUBAI (Reuters) - Iran accused the United Stat...  "
      ]
     },
     "execution_count": 88,
     "metadata": {},
     "output_type": "execute_result"
    }
   ],
   "source": [
    "file_name = '{0}/mfa_cor_english_2.xlsx'.format(folder)\n",
    "print(file_name)\n",
    "cor_1 = pd.read_excel('data/%s'%file_name)\n",
    "cor_1.columns = ['title', 'sensitivity', 'content']\n",
    "print(cor_1.shape)\n",
    "cor_1.head()"
   ]
  },
  {
   "cell_type": "markdown",
   "metadata": {},
   "source": [
    "## 外交部-不相关"
   ]
  },
  {
   "cell_type": "code",
   "execution_count": 85,
   "metadata": {
    "ExecuteTime": {
     "end_time": "2018-08-09T09:12:49.420085Z",
     "start_time": "2018-08-09T09:12:48.845052Z"
    }
   },
   "outputs": [
    {
     "name": "stdout",
     "output_type": "stream",
     "text": [
      "20180808/mfa_uncor_english_2_1.xlsx\n",
      "(5497, 2)\n"
     ]
    },
    {
     "data": {
      "text/html": [
       "<div>\n",
       "<style scoped>\n",
       "    .dataframe tbody tr th:only-of-type {\n",
       "        vertical-align: middle;\n",
       "    }\n",
       "\n",
       "    .dataframe tbody tr th {\n",
       "        vertical-align: top;\n",
       "    }\n",
       "\n",
       "    .dataframe thead th {\n",
       "        text-align: right;\n",
       "    }\n",
       "</style>\n",
       "<table border=\"1\" class=\"dataframe\">\n",
       "  <thead>\n",
       "    <tr style=\"text-align: right;\">\n",
       "      <th></th>\n",
       "      <th>title</th>\n",
       "      <th>content</th>\n",
       "    </tr>\n",
       "  </thead>\n",
       "  <tbody>\n",
       "    <tr>\n",
       "      <th>0</th>\n",
       "      <td>Thai vendors rubbish criticism of famous Mae K...</td>\n",
       "      <td>BANGKOK (THE NATION/ASIA NEWS NETWORK) - Vendo...</td>\n",
       "    </tr>\n",
       "    <tr>\n",
       "      <th>1</th>\n",
       "      <td>French Politician Arrested for Justifying Terr...</td>\n",
       "      <td>Police arrested Stephane Poussier in his home ...</td>\n",
       "    </tr>\n",
       "    <tr>\n",
       "      <th>2</th>\n",
       "      <td>The classic explanation for the Black Death pl...</td>\n",
       "      <td>Plague came to Europe in the 14th century and ...</td>\n",
       "    </tr>\n",
       "    <tr>\n",
       "      <th>3</th>\n",
       "      <td>BRIEF-Sinopec Oilfield Service Gets Approval T...</td>\n",
       "      <td>Jan 17 (Reuters) - Sinopec Oilfield Service Co...</td>\n",
       "    </tr>\n",
       "    <tr>\n",
       "      <th>4</th>\n",
       "      <td>BRIEF-Sinopec Oilfield Service Says Lock-Up Pe...</td>\n",
       "      <td>Dec 22 (Reuters) - Sinopec Oilfield Service Co...</td>\n",
       "    </tr>\n",
       "  </tbody>\n",
       "</table>\n",
       "</div>"
      ],
      "text/plain": [
       "                                               title  \\\n",
       "0  Thai vendors rubbish criticism of famous Mae K...   \n",
       "1  French Politician Arrested for Justifying Terr...   \n",
       "2  The classic explanation for the Black Death pl...   \n",
       "3  BRIEF-Sinopec Oilfield Service Gets Approval T...   \n",
       "4  BRIEF-Sinopec Oilfield Service Says Lock-Up Pe...   \n",
       "\n",
       "                                             content  \n",
       "0  BANGKOK (THE NATION/ASIA NEWS NETWORK) - Vendo...  \n",
       "1  Police arrested Stephane Poussier in his home ...  \n",
       "2  Plague came to Europe in the 14th century and ...  \n",
       "3  Jan 17 (Reuters) - Sinopec Oilfield Service Co...  \n",
       "4  Dec 22 (Reuters) - Sinopec Oilfield Service Co...  "
      ]
     },
     "execution_count": 85,
     "metadata": {},
     "output_type": "execute_result"
    }
   ],
   "source": [
    "file_name = '{0}/mfa_uncor_english_2_1.xlsx'.format(folder)\n",
    "print(file_name)\n",
    "uncor_1 = pd.read_excel('data/%s'%file_name)\n",
    "uncor_1.columns = ['title', 'content']\n",
    "print(uncor_1.shape)\n",
    "uncor_1.head()"
   ]
  },
  {
   "cell_type": "markdown",
   "metadata": {},
   "source": [
    "## 合并数据"
   ]
  },
  {
   "cell_type": "code",
   "execution_count": 86,
   "metadata": {
    "ExecuteTime": {
     "end_time": "2018-08-09T09:12:49.958116Z",
     "start_time": "2018-08-09T09:12:49.927114Z"
    }
   },
   "outputs": [
    {
     "name": "stdout",
     "output_type": "stream",
     "text": [
      "去重前： (6000, 4)\n",
      "去重后： (5807, 4)\n"
     ]
    },
    {
     "data": {
      "text/html": [
       "<div>\n",
       "<style scoped>\n",
       "    .dataframe tbody tr th:only-of-type {\n",
       "        vertical-align: middle;\n",
       "    }\n",
       "\n",
       "    .dataframe tbody tr th {\n",
       "        vertical-align: top;\n",
       "    }\n",
       "\n",
       "    .dataframe thead th {\n",
       "        text-align: right;\n",
       "    }\n",
       "</style>\n",
       "<table border=\"1\" class=\"dataframe\">\n",
       "  <thead>\n",
       "    <tr style=\"text-align: right;\">\n",
       "      <th></th>\n",
       "      <th>title</th>\n",
       "      <th>sensitivity</th>\n",
       "      <th>content</th>\n",
       "      <th>title_content</th>\n",
       "    </tr>\n",
       "  </thead>\n",
       "  <tbody>\n",
       "    <tr>\n",
       "      <th>0</th>\n",
       "      <td>Despite US Warning, Turkey Has No Plans to Aba...</td>\n",
       "      <td>NaN</td>\n",
       "      <td>Recai Berber, member of Turkish parliament fro...</td>\n",
       "      <td>Despite US Warning, Turkey Has No Plans to Aba...</td>\n",
       "    </tr>\n",
       "    <tr>\n",
       "      <th>1</th>\n",
       "      <td>Moscow denounces ’anti-Russian’ US nuclear policy</td>\n",
       "      <td>NaN</td>\n",
       "      <td>MOSCOW (AFP) - Moscow on Saturday (Feb 3) deno...</td>\n",
       "      <td>Moscow denounces ’anti-Russian’ US nuclear pol...</td>\n",
       "    </tr>\n",
       "    <tr>\n",
       "      <th>2</th>\n",
       "      <td>Iran’s Rouhani raps US nuclear expansion plan ...</td>\n",
       "      <td>NaN</td>\n",
       "      <td>Dubai: Iran accused the United States on Sunda...</td>\n",
       "      <td>Iran’s Rouhani raps US nuclear expansion plan ...</td>\n",
       "    </tr>\n",
       "    <tr>\n",
       "      <th>3</th>\n",
       "      <td>Iranian President Hassan Rouhani raps new US n...</td>\n",
       "      <td>NaN</td>\n",
       "      <td>Iran accused the United States on Sunday of th...</td>\n",
       "      <td>Iranian President Hassan Rouhani raps new US n...</td>\n",
       "    </tr>\n",
       "    <tr>\n",
       "      <th>4</th>\n",
       "      <td>Iran’s Rouhani raps new U.S. nuclear plan as t...</td>\n",
       "      <td>NaN</td>\n",
       "      <td>DUBAI (Reuters) - Iran accused the United Stat...</td>\n",
       "      <td>Iran’s Rouhani raps new U.S. nuclear plan as t...</td>\n",
       "    </tr>\n",
       "  </tbody>\n",
       "</table>\n",
       "</div>"
      ],
      "text/plain": [
       "                                               title sensitivity  \\\n",
       "0  Despite US Warning, Turkey Has No Plans to Aba...         NaN   \n",
       "1  Moscow denounces ’anti-Russian’ US nuclear policy         NaN   \n",
       "2  Iran’s Rouhani raps US nuclear expansion plan ...         NaN   \n",
       "3  Iranian President Hassan Rouhani raps new US n...         NaN   \n",
       "4  Iran’s Rouhani raps new U.S. nuclear plan as t...         NaN   \n",
       "\n",
       "                                             content  \\\n",
       "0  Recai Berber, member of Turkish parliament fro...   \n",
       "1  MOSCOW (AFP) - Moscow on Saturday (Feb 3) deno...   \n",
       "2  Dubai: Iran accused the United States on Sunda...   \n",
       "3  Iran accused the United States on Sunday of th...   \n",
       "4  DUBAI (Reuters) - Iran accused the United Stat...   \n",
       "\n",
       "                                       title_content  \n",
       "0  Despite US Warning, Turkey Has No Plans to Aba...  \n",
       "1  Moscow denounces ’anti-Russian’ US nuclear pol...  \n",
       "2  Iran’s Rouhani raps US nuclear expansion plan ...  \n",
       "3  Iranian President Hassan Rouhani raps new US n...  \n",
       "4  Iran’s Rouhani raps new U.S. nuclear plan as t...  "
      ]
     },
     "execution_count": 86,
     "metadata": {},
     "output_type": "execute_result"
    }
   ],
   "source": [
    "# 相关\n",
    "cor_data_raw = cor_1\n",
    "print('去重前：', cor_data_raw.shape)\n",
    "cor_data_raw = cor_data_raw.drop_duplicates(subset = 'title')\n",
    "print('去重后：', cor_data_raw.shape)\n",
    "cor_data_raw.head()"
   ]
  },
  {
   "cell_type": "code",
   "execution_count": 87,
   "metadata": {
    "ExecuteTime": {
     "end_time": "2018-08-09T09:12:50.505147Z",
     "start_time": "2018-08-09T09:12:50.476146Z"
    }
   },
   "outputs": [
    {
     "name": "stdout",
     "output_type": "stream",
     "text": [
      "去重前： (5497, 2)\n",
      "去重后： (5492, 2)\n"
     ]
    },
    {
     "data": {
      "text/html": [
       "<div>\n",
       "<style scoped>\n",
       "    .dataframe tbody tr th:only-of-type {\n",
       "        vertical-align: middle;\n",
       "    }\n",
       "\n",
       "    .dataframe tbody tr th {\n",
       "        vertical-align: top;\n",
       "    }\n",
       "\n",
       "    .dataframe thead th {\n",
       "        text-align: right;\n",
       "    }\n",
       "</style>\n",
       "<table border=\"1\" class=\"dataframe\">\n",
       "  <thead>\n",
       "    <tr style=\"text-align: right;\">\n",
       "      <th></th>\n",
       "      <th>title</th>\n",
       "      <th>content</th>\n",
       "    </tr>\n",
       "  </thead>\n",
       "  <tbody>\n",
       "    <tr>\n",
       "      <th>0</th>\n",
       "      <td>Thai vendors rubbish criticism of famous Mae K...</td>\n",
       "      <td>BANGKOK (THE NATION/ASIA NEWS NETWORK) - Vendo...</td>\n",
       "    </tr>\n",
       "    <tr>\n",
       "      <th>1</th>\n",
       "      <td>French Politician Arrested for Justifying Terr...</td>\n",
       "      <td>Police arrested Stephane Poussier in his home ...</td>\n",
       "    </tr>\n",
       "    <tr>\n",
       "      <th>2</th>\n",
       "      <td>The classic explanation for the Black Death pl...</td>\n",
       "      <td>Plague came to Europe in the 14th century and ...</td>\n",
       "    </tr>\n",
       "    <tr>\n",
       "      <th>3</th>\n",
       "      <td>BRIEF-Sinopec Oilfield Service Gets Approval T...</td>\n",
       "      <td>Jan 17 (Reuters) - Sinopec Oilfield Service Co...</td>\n",
       "    </tr>\n",
       "    <tr>\n",
       "      <th>4</th>\n",
       "      <td>BRIEF-Sinopec Oilfield Service Says Lock-Up Pe...</td>\n",
       "      <td>Dec 22 (Reuters) - Sinopec Oilfield Service Co...</td>\n",
       "    </tr>\n",
       "  </tbody>\n",
       "</table>\n",
       "</div>"
      ],
      "text/plain": [
       "                                               title  \\\n",
       "0  Thai vendors rubbish criticism of famous Mae K...   \n",
       "1  French Politician Arrested for Justifying Terr...   \n",
       "2  The classic explanation for the Black Death pl...   \n",
       "3  BRIEF-Sinopec Oilfield Service Gets Approval T...   \n",
       "4  BRIEF-Sinopec Oilfield Service Says Lock-Up Pe...   \n",
       "\n",
       "                                             content  \n",
       "0  BANGKOK (THE NATION/ASIA NEWS NETWORK) - Vendo...  \n",
       "1  Police arrested Stephane Poussier in his home ...  \n",
       "2  Plague came to Europe in the 14th century and ...  \n",
       "3  Jan 17 (Reuters) - Sinopec Oilfield Service Co...  \n",
       "4  Dec 22 (Reuters) - Sinopec Oilfield Service Co...  "
      ]
     },
     "execution_count": 87,
     "metadata": {},
     "output_type": "execute_result"
    }
   ],
   "source": [
    "# 不相关\n",
    "uncor_data_raw = uncor_1\n",
    "print('去重前：', uncor_data_raw.shape)\n",
    "uncor_data_raw = uncor_data_raw.drop_duplicates( subset = 'title')\n",
    "print('去重后：', uncor_data_raw.shape)\n",
    "uncor_data_raw.head()"
   ]
  },
  {
   "cell_type": "code",
   "execution_count": 8,
   "metadata": {
    "ExecuteTime": {
     "end_time": "2018-08-09T05:59:39.347171Z",
     "start_time": "2018-08-09T05:59:39.113158Z"
    }
   },
   "outputs": [
    {
     "name": "stdout",
     "output_type": "stream",
     "text": [
      "去重前： (11299, 5)\n",
      "去重后： (11237, 5)\n",
      "cor_data_raw:  (5776, 2)\n",
      "uncor_data_raw:  (5461, 2)\n"
     ]
    }
   ],
   "source": [
    "# 相关与不相关\n",
    "cor_data_raw['label'] = 1\n",
    "uncor_data_raw['label'] = 0\n",
    "data_raw = pd.concat([cor_data_raw, uncor_data_raw])\n",
    "print('去重前：', data_raw.shape)\n",
    "data_raw = data_raw.drop_duplicates( subset = 'title', keep = False)\n",
    "print('去重后：', data_raw.shape)\n",
    "\n",
    "cor_data_raw = data_raw[data_raw['label'] == 1][['title', 'content']]\n",
    "uncor_data_raw = data_raw[data_raw['label'] == 0][['title', 'content']]\n",
    "print('cor_data_raw: ', cor_data_raw.shape)\n",
    "print('uncor_data_raw: ', uncor_data_raw.shape)"
   ]
  },
  {
   "cell_type": "markdown",
   "metadata": {},
   "source": [
    "# 预处理数据"
   ]
  },
  {
   "cell_type": "code",
   "execution_count": 9,
   "metadata": {
    "ExecuteTime": {
     "end_time": "2018-08-09T05:59:44.413461Z",
     "start_time": "2018-08-09T05:59:44.403460Z"
    }
   },
   "outputs": [
    {
     "name": "stdout",
     "output_type": "stream",
     "text": [
      "6000\n"
     ]
    },
    {
     "data": {
      "text/plain": [
       "'Despite US Warning, Turkey Has No Plans to Abandon S-400 Deal With Russia – MP - Sputnik International. Recai Berber, member of\\xa0Turkish parliament from\\xa0the ruling Justice and Development Party and chairman of\\xa0the parliamentary Turkish-Russian Friendship Group, has recalled that Ankara decided to\\xa0purchase the S-400 systems after\\xa0holding talks and reaching relevant agreements with\\xa0all its allies.\\n\"Consequently, we know that this decision cannot contradict our membership in NATO and allied relations with\\xa0the United States. Within the framework of\\xa0the agreement on\\xa0S-400, it is also a matter of\\xa0technology exchange between\\xa0Russia and Turkey. So NATO allies opposing it is out\\xa0of the question,\" Berber said.\\n\\n                        ©\\n                    Sputnik/ Alexey MalgavkoUS May Sanction Turkey Following Purchase of Russian S-400 Systems - ReportsHe pointed to \"contradictory messages to\\xa0the public \" issued by\\xa0the US State Department, the Pentagon and the US President, which he said led to\\xa0the situation when \"neither we nor the international community can understand which of\\xa0the messages reflects the true will of\\xa0the US Administration.\"\\nAccording to\\xa0him, the State Department’s statement was made without\\xa0any consultations given that positions on\\xa0the matter \"have already been clearly defined by\\xa0Turkey and NATO.\"\\n\"We have no doubt about\\xa0the purchase of\\xa0the S-400. Turkey adopted a relevant decision and clinched an agreement to\\xa0further develop the entire subsequent process. Such a statement by\\xa0the US State Department does not oblige Turkey to\\xa0anything,\" Berber emphasized.\\nHe was echoed by\\xa0Beyazıt Karatas, retired Major-General of\\xa0the Turkish Air Force, who specifically cited Ankara’s current \"sharp anti-American stance.\"\\n\"The US has repeatedly put obstacles to\\xa0Turkey’s attempts to\\xa0purchase long-range air defense systems. However, taking a decision on\\xa0the S-400, due to\\xa0be used separately from\\xa0NATO to\\xa0provide Turkey’s national security, Ankara made a meticulous long-term assessment of\\xa0the situation,\" Karatas noted.\\nHe recalled that the US continues to\\xa0exert all sorts of\\xa0pressure on\\xa0Turkey in\\xa0order to\\xa0prevent it from\\xa0purchasing the S-400 systems. According to\\xa0him, the main question is \"what steps the US will take regarding Ankara’s purchase of\\xa0these systems from\\xa0Russia.\"\\nREAD MORE: What’s Behind NATO’s Decision to\\xa0Accept Turkey’s Russian S-400 Purchase\\nCiting \"the political and military situation\", Karatas suggested that the US will be unable to\\xa0keep Turkey from\\xa0buying the S-400.\\n\"The US has lost support in\\xa0Turkey, both politically and socially, as\\xa085 percent of\\xa0the Turkish public supports the anti-American and anti-NATO stance. I believe that amid the ongoing Afrin military operation and Ankara’s further actions in\\xa0Syria as\\xa0part of\\xa0anti-terror fight, Turkey will not change its decision on\\xa0the purchase of\\xa0the S-400,\" he concluded.\\n\\n                        ©\\n                    REUTERS/ Mahmoud HebboAfrin Tensions: US Warns Turkey Against Actions on Syrian Kurds as Ankara Insists on Right to Self-DefenseEarlier this week, the US State Department threatened to\\xa0slap \"appropriate measures\" against\\xa0those countries which are willing to\\xa0agree with\\xa0Russia on\\xa0buying the S-400 systems.\\nIn September 2017, Moscow and Ankara clinched a deal on\\xa0the delivery of\\xa0the S-400 surface-to-air missile systems to\\xa0Turkey. Later that month, Russian presidential aide Vladimir Kozhin confirmed Turkey’s up-front payment for\\xa0the S-400s, saying that the delivery is scheduled for\\xa02019.\\nThe agreement caused uproar in\\xa0Washington, prompting Turkish President Recep Tayyip Erdogan to\\xa0underscore that his country was free to\\xa0make independent decisions about\\xa0its national security.\\nThe views and opinions expressed by\\xa0Recai Berber and Beyazıt Karatas are those of\\xa0the speakers and do not necessarily reflect Sputnik’s position.'"
      ]
     },
     "execution_count": 9,
     "metadata": {},
     "output_type": "execute_result"
    }
   ],
   "source": [
    "text = cor_1['title_content'].tolist()\n",
    "print(len(text))\n",
    "text[0]"
   ]
  },
  {
   "cell_type": "code",
   "execution_count": 22,
   "metadata": {
    "ExecuteTime": {
     "end_time": "2018-08-09T06:10:27.216227Z",
     "start_time": "2018-08-09T06:10:27.198226Z"
    }
   },
   "outputs": [
    {
     "data": {
      "text/plain": [
       "'Despite US Warning, Turkey Has No Plans to Abandon S-400 Deal With Russia – MP - Sputnik International. Recai Berber, member ofTurkish parliament fromthe ruling Justice and Development Party and chairman ofthe parliamentary Turkish-Russian Friendship Group, has recalled that Ankara decided topurchase the S-400 systems afterholding talks and reaching relevant agreements withall its allies.\"Consequently, we know that this decision cannot contradict our membership in NATO and allied relations withthe United States. Within the framework ofthe agreement onS-400, it is also a matter oftechnology exchange betweenRussia and Turkey. So NATO allies opposing it is outof the question,\" Berber said.                        ©                    Sputnik/ Alexey MalgavkoUS May Sanction Turkey Following Purchase of Russian S-400 Systems - ReportsHe pointed to \"contradictory messages tothe public \" issued bythe US State Department, the Pentagon and the US President, which he said led tothe situation when \"neither we nor the international community can understand which ofthe messages reflects the true will ofthe US Administration.\"According tohim, the State Department’s statement was made withoutany consultations given that positions onthe matter \"have already been clearly defined byTurkey and NATO.\"\"We have no doubt aboutthe purchase ofthe S-400. Turkey adopted a relevant decision and clinched an agreement tofurther develop the entire subsequent process. Such a statement bythe US State Department does not oblige Turkey toanything,\" Berber emphasized.He was echoed byBeyazıt Karatas, retired Major-General ofthe Turkish Air Force, who specifically cited Ankara’s current \"sharp anti-American stance.\"\"The US has repeatedly put obstacles toTurkey’s attempts topurchase long-range air defense systems. However, taking a decision onthe S-400, due tobe used separately fromNATO toprovide Turkey’s national security, Ankara made a meticulous long-term assessment ofthe situation,\" Karatas noted.He recalled that the US continues toexert all sorts ofpressure onTurkey inorder toprevent it frompurchasing the S-400 systems. According tohim, the main question is \"what steps the US will take regarding Ankara’s purchase ofthese systems fromRussia.\"READ MORE: What’s Behind NATO’s Decision toAccept Turkey’s Russian S-400 PurchaseCiting \"the political and military situation\", Karatas suggested that the US will be unable tokeep Turkey frombuying the S-400.\"The US has lost support inTurkey, both politically and socially, as85 percent ofthe Turkish public supports the anti-American and anti-NATO stance. I believe that amid the ongoing Afrin military operation and Ankara’s further actions inSyria aspart ofanti-terror fight, Turkey will not change its decision onthe purchase ofthe S-400,\" he concluded.                        ©                    REUTERS/ Mahmoud HebboAfrin Tensions: US Warns Turkey Against Actions on Syrian Kurds as Ankara Insists on Right to Self-DefenseEarlier this week, the US State Department threatened toslap \"appropriate measures\" againstthose countries which are willing toagree withRussia onbuying the S-400 systems.In September 2017, Moscow and Ankara clinched a deal onthe delivery ofthe S-400 surface-to-air missile systems toTurkey. Later that month, Russian presidential aide Vladimir Kozhin confirmed Turkey’s up-front payment forthe S-400s, saying that the delivery is scheduled for2019.The agreement caused uproar inWashington, prompting Turkish President Recep Tayyip Erdogan tounderscore that his country was free tomake independent decisions aboutits national security.The views and opinions expressed byRecai Berber and Beyazıt Karatas are those ofthe speakers and do not necessarily reflect Sputnik’s position.'"
      ]
     },
     "execution_count": 22,
     "metadata": {},
     "output_type": "execute_result"
    }
   ],
   "source": [
    "text[0].replace('\\xa0', '').replace('\\n', '').replace('\\t', '')"
   ]
  },
  {
   "cell_type": "code",
   "execution_count": null,
   "metadata": {
    "collapsed": true
   },
   "outputs": [],
   "source": []
  },
  {
   "cell_type": "markdown",
   "metadata": {},
   "source": [
    "## Tokenization & Segmentation 单词化 / 语块化 分词"
   ]
  },
  {
   "cell_type": "markdown",
   "metadata": {},
   "source": [
    "### Sentence Tokenize（分割句子）"
   ]
  },
  {
   "cell_type": "code",
   "execution_count": 24,
   "metadata": {
    "ExecuteTime": {
     "end_time": "2018-08-09T06:11:55.656286Z",
     "start_time": "2018-08-09T06:11:55.630284Z"
    }
   },
   "outputs": [
    {
     "data": {
      "text/plain": [
       "['Despite US Warning, Turkey Has No Plans to Abandon S-400 Deal With Russia – MP - Sputnik International.',\n",
       " 'Recai Berber, member of\\xa0Turkish parliament from\\xa0the ruling Justice and Development Party and chairman of\\xa0the parliamentary Turkish-Russian Friendship Group, has recalled that Ankara decided to\\xa0purchase the S-400 systems after\\xa0holding talks and reaching relevant agreements with\\xa0all its allies.',\n",
       " '\"Consequently, we know that this decision cannot contradict our membership in NATO and allied relations with\\xa0the United States.',\n",
       " 'Within the framework of\\xa0the agreement on\\xa0S-400, it is also a matter of\\xa0technology exchange between\\xa0Russia and Turkey.',\n",
       " 'So NATO allies opposing it is out\\xa0of the question,\" Berber said.',\n",
       " '©\\n                    Sputnik/ Alexey MalgavkoUS May Sanction Turkey Following Purchase of Russian S-400 Systems - ReportsHe pointed to \"contradictory messages to\\xa0the public \" issued by\\xa0the US State Department, the Pentagon and the US President, which he said led to\\xa0the situation when \"neither we nor the international community can understand which of\\xa0the messages reflects the true will of\\xa0the US Administration.\"',\n",
       " 'According to\\xa0him, the State Department’s statement was made without\\xa0any consultations given that positions on\\xa0the matter \"have already been clearly defined by\\xa0Turkey and NATO.\"',\n",
       " '\"We have no doubt about\\xa0the purchase of\\xa0the S-400.',\n",
       " 'Turkey adopted a relevant decision and clinched an agreement to\\xa0further develop the entire subsequent process.',\n",
       " 'Such a statement by\\xa0the US State Department does not oblige Turkey to\\xa0anything,\" Berber emphasized.',\n",
       " 'He was echoed by\\xa0Beyazıt Karatas, retired Major-General of\\xa0the Turkish Air Force, who specifically cited Ankara’s current \"sharp anti-American stance.\"',\n",
       " '\"The US has repeatedly put obstacles to\\xa0Turkey’s attempts to\\xa0purchase long-range air defense systems.',\n",
       " 'However, taking a decision on\\xa0the S-400, due to\\xa0be used separately from\\xa0NATO to\\xa0provide Turkey’s national security, Ankara made a meticulous long-term assessment of\\xa0the situation,\" Karatas noted.',\n",
       " 'He recalled that the US continues to\\xa0exert all sorts of\\xa0pressure on\\xa0Turkey in\\xa0order to\\xa0prevent it from\\xa0purchasing the S-400 systems.',\n",
       " 'According to\\xa0him, the main question is \"what steps the US will take regarding Ankara’s purchase of\\xa0these systems from\\xa0Russia.\"',\n",
       " 'READ MORE: What’s Behind NATO’s Decision to\\xa0Accept Turkey’s Russian S-400 Purchase\\nCiting \"the political and military situation\", Karatas suggested that the US will be unable to\\xa0keep Turkey from\\xa0buying the S-400.',\n",
       " '\"The US has lost support in\\xa0Turkey, both politically and socially, as\\xa085 percent of\\xa0the Turkish public supports the anti-American and anti-NATO stance.',\n",
       " 'I believe that amid the ongoing Afrin military operation and Ankara’s further actions in\\xa0Syria as\\xa0part of\\xa0anti-terror fight, Turkey will not change its decision on\\xa0the purchase of\\xa0the S-400,\" he concluded.',\n",
       " '©\\n                    REUTERS/ Mahmoud HebboAfrin Tensions: US Warns Turkey Against Actions on Syrian Kurds as Ankara Insists on Right to Self-DefenseEarlier this week, the US State Department threatened to\\xa0slap \"appropriate measures\" against\\xa0those countries which are willing to\\xa0agree with\\xa0Russia on\\xa0buying the S-400 systems.',\n",
       " 'In September 2017, Moscow and Ankara clinched a deal on\\xa0the delivery of\\xa0the S-400 surface-to-air missile systems to\\xa0Turkey.',\n",
       " 'Later that month, Russian presidential aide Vladimir Kozhin confirmed Turkey’s up-front payment for\\xa0the S-400s, saying that the delivery is scheduled for\\xa02019.',\n",
       " 'The agreement caused uproar in\\xa0Washington, prompting Turkish President Recep Tayyip Erdogan to\\xa0underscore that his country was free to\\xa0make independent decisions about\\xa0its national security.',\n",
       " 'The views and opinions expressed by\\xa0Recai Berber and Beyazıt Karatas are those of\\xa0the speakers and do not necessarily reflect Sputnik’s position.']"
      ]
     },
     "execution_count": 24,
     "metadata": {},
     "output_type": "execute_result"
    }
   ],
   "source": [
    "from nltk.tokenize import sent_tokenize  \n",
    "sent_tokenize_list = sent_tokenize(text[0])\n",
    "sent_tokenize_list"
   ]
  },
  {
   "cell_type": "markdown",
   "metadata": {},
   "source": [
    "### Word Tokenize(分割单词)"
   ]
  },
  {
   "cell_type": "code",
   "execution_count": 27,
   "metadata": {
    "ExecuteTime": {
     "end_time": "2018-08-09T06:12:54.205634Z",
     "start_time": "2018-08-09T06:12:54.187633Z"
    }
   },
   "outputs": [
    {
     "name": "stdout",
     "output_type": "stream",
     "text": [
      "['Despite', 'US', 'Warning', ',', 'Turkey', 'Has', 'No', 'Plans', 'to', 'Abandon', 'S-400', 'Deal', 'With', 'Russia', '–', 'MP', '-', 'Sputnik', 'International', '.']\n",
      "\n",
      "['Despite', 'US', 'Warning', ',', 'Turkey', 'Has', 'No', 'Plans', 'to', 'Abandon', 'S-400', 'Deal', 'With', 'Russia', '–', 'MP', '-', 'Sputnik', 'International', '.', 'Recai', 'Berber', ',', 'member', 'of', 'Turkish', 'parliament', 'from', 'the', 'ruling', 'Justice', 'and', 'Development', 'Party', 'and', 'chairman', 'of', 'the', 'parliamentary', 'Turkish-Russian', 'Friendship', 'Group', ',', 'has', 'recalled', 'that', 'Ankara', 'decided', 'to', 'purchase', 'the', 'S-400', 'systems', 'after', 'holding', 'talks', 'and', 'reaching', 'relevant', 'agreements', 'with', 'all', 'its', 'allies', '.', '``', 'Consequently', ',', 'we', 'know', 'that', 'this', 'decision', 'can', 'not', 'contradict', 'our', 'membership', 'in', 'NATO', 'and', 'allied', 'relations', 'with', 'the', 'United', 'States', '.', 'Within', 'the', 'framework', 'of', 'the', 'agreement', 'on', 'S-400', ',', 'it', 'is', 'also', 'a', 'matter', 'of', 'technology', 'exchange', 'between', 'Russia', 'and', 'Turkey', '.', 'So', 'NATO', 'allies', 'opposing', 'it', 'is', 'out', 'of', 'the', 'question', ',', \"''\", 'Berber', 'said', '.', '©', 'Sputnik/', 'Alexey', 'MalgavkoUS', 'May', 'Sanction', 'Turkey', 'Following', 'Purchase', 'of', 'Russian', 'S-400', 'Systems', '-', 'ReportsHe', 'pointed', 'to', '``', 'contradictory', 'messages', 'to', 'the', 'public', '``', 'issued', 'by', 'the', 'US', 'State', 'Department', ',', 'the', 'Pentagon', 'and', 'the', 'US', 'President', ',', 'which', 'he', 'said', 'led', 'to', 'the', 'situation', 'when', '``', 'neither', 'we', 'nor', 'the', 'international', 'community', 'can', 'understand', 'which', 'of', 'the', 'messages', 'reflects', 'the', 'true', 'will', 'of', 'the', 'US', 'Administration', '.', \"''\", 'According', 'to', 'him', ',', 'the', 'State', 'Department', '’', 's', 'statement', 'was', 'made', 'without', 'any', 'consultations', 'given', 'that', 'positions', 'on', 'the', 'matter', '``', 'have', 'already', 'been', 'clearly', 'defined', 'by', 'Turkey', 'and', 'NATO', '.', \"''\", '``', 'We', 'have', 'no', 'doubt', 'about', 'the', 'purchase', 'of', 'the', 'S-400', '.', 'Turkey', 'adopted', 'a', 'relevant', 'decision', 'and', 'clinched', 'an', 'agreement', 'to', 'further', 'develop', 'the', 'entire', 'subsequent', 'process', '.', 'Such', 'a', 'statement', 'by', 'the', 'US', 'State', 'Department', 'does', 'not', 'oblige', 'Turkey', 'to', 'anything', ',', \"''\", 'Berber', 'emphasized', '.', 'He', 'was', 'echoed', 'by', 'Beyazıt', 'Karatas', ',', 'retired', 'Major-General', 'of', 'the', 'Turkish', 'Air', 'Force', ',', 'who', 'specifically', 'cited', 'Ankara', '’', 's', 'current', '``', 'sharp', 'anti-American', 'stance', '.', \"''\", '``', 'The', 'US', 'has', 'repeatedly', 'put', 'obstacles', 'to', 'Turkey', '’', 's', 'attempts', 'to', 'purchase', 'long-range', 'air', 'defense', 'systems', '.', 'However', ',', 'taking', 'a', 'decision', 'on', 'the', 'S-400', ',', 'due', 'to', 'be', 'used', 'separately', 'from', 'NATO', 'to', 'provide', 'Turkey', '’', 's', 'national', 'security', ',', 'Ankara', 'made', 'a', 'meticulous', 'long-term', 'assessment', 'of', 'the', 'situation', ',', \"''\", 'Karatas', 'noted', '.', 'He', 'recalled', 'that', 'the', 'US', 'continues', 'to', 'exert', 'all', 'sorts', 'of', 'pressure', 'on', 'Turkey', 'in', 'order', 'to', 'prevent', 'it', 'from', 'purchasing', 'the', 'S-400', 'systems', '.', 'According', 'to', 'him', ',', 'the', 'main', 'question', 'is', '``', 'what', 'steps', 'the', 'US', 'will', 'take', 'regarding', 'Ankara', '’', 's', 'purchase', 'of', 'these', 'systems', 'from', 'Russia', '.', \"''\", 'READ', 'MORE', ':', 'What', '’', 's', 'Behind', 'NATO', '’', 's', 'Decision', 'to', 'Accept', 'Turkey', '’', 's', 'Russian', 'S-400', 'Purchase', 'Citing', '``', 'the', 'political', 'and', 'military', 'situation', \"''\", ',', 'Karatas', 'suggested', 'that', 'the', 'US', 'will', 'be', 'unable', 'to', 'keep', 'Turkey', 'from', 'buying', 'the', 'S-400', '.', '``', 'The', 'US', 'has', 'lost', 'support', 'in', 'Turkey', ',', 'both', 'politically', 'and', 'socially', ',', 'as', '85', 'percent', 'of', 'the', 'Turkish', 'public', 'supports', 'the', 'anti-American', 'and', 'anti-NATO', 'stance', '.', 'I', 'believe', 'that', 'amid', 'the', 'ongoing', 'Afrin', 'military', 'operation', 'and', 'Ankara', '’', 's', 'further', 'actions', 'in', 'Syria', 'as', 'part', 'of', 'anti-terror', 'fight', ',', 'Turkey', 'will', 'not', 'change', 'its', 'decision', 'on', 'the', 'purchase', 'of', 'the', 'S-400', ',', \"''\", 'he', 'concluded', '.', '©', 'REUTERS/', 'Mahmoud', 'HebboAfrin', 'Tensions', ':', 'US', 'Warns', 'Turkey', 'Against', 'Actions', 'on', 'Syrian', 'Kurds', 'as', 'Ankara', 'Insists', 'on', 'Right', 'to', 'Self-DefenseEarlier', 'this', 'week', ',', 'the', 'US', 'State', 'Department', 'threatened', 'to', 'slap', '``', 'appropriate', 'measures', \"''\", 'against', 'those', 'countries', 'which', 'are', 'willing', 'to', 'agree', 'with', 'Russia', 'on', 'buying', 'the', 'S-400', 'systems', '.', 'In', 'September', '2017', ',', 'Moscow', 'and', 'Ankara', 'clinched', 'a', 'deal', 'on', 'the', 'delivery', 'of', 'the', 'S-400', 'surface-to-air', 'missile', 'systems', 'to', 'Turkey', '.', 'Later', 'that', 'month', ',', 'Russian', 'presidential', 'aide', 'Vladimir', 'Kozhin', 'confirmed', 'Turkey', '’', 's', 'up-front', 'payment', 'for', 'the', 'S-400s', ',', 'saying', 'that', 'the', 'delivery', 'is', 'scheduled', 'for', '2019', '.', 'The', 'agreement', 'caused', 'uproar', 'in', 'Washington', ',', 'prompting', 'Turkish', 'President', 'Recep', 'Tayyip', 'Erdogan', 'to', 'underscore', 'that', 'his', 'country', 'was', 'free', 'to', 'make', 'independent', 'decisions', 'about', 'its', 'national', 'security', '.', 'The', 'views', 'and', 'opinions', 'expressed', 'by', 'Recai', 'Berber', 'and', 'Beyazıt', 'Karatas', 'are', 'those', 'of', 'the', 'speakers', 'and', 'do', 'not', 'necessarily', 'reflect', 'Sputnik', '’', 's', 'position', '.']\n"
     ]
    }
   ],
   "source": [
    "from nltk.tokenize import word_tokenize  \n",
    "\n",
    "word_list = word_tokenize(sent_tokenize_list[0])\n",
    "print(word_list)\n",
    "print()\n",
    "word_tokenize_list = word_tokenize(text[0])  \n",
    "print(word_tokenize_list)  "
   ]
  },
  {
   "cell_type": "markdown",
   "metadata": {},
   "source": [
    "## Normalization 数据标准化"
   ]
  },
  {
   "cell_type": "markdown",
   "metadata": {},
   "source": [
    "### Noise Removal 非文本数据去除\n",
    "- 对于自己爬虫爬下来的文本(如HTML格式)需要做非文本数据去除。\n",
    "- 这一步主要是针对我们用爬虫收集的语料数据，由于爬下来的内容中有很多html的一些标签，需要去掉。少量的非文本内容的可以直接用Python的正则表达式(re)删除, 复杂的则可以用beautifulsoup来去除。另外还有一些特殊的非英文字符(non-alpha),也可以用Python的正则表达式(re)删除。"
   ]
  },
  {
   "cell_type": "markdown",
   "metadata": {},
   "source": [
    "### Spell Check 拼写检查\n",
    "- 由于英文文本中可能有拼写错误，因此一般需要进行拼写检查。如果确信我们分析的文本没有拼写问题，可以略去此步。\n",
    "- 拼写检查，我们一般用pyenchant类库完成。"
   ]
  },
  {
   "cell_type": "code",
   "execution_count": 29,
   "metadata": {
    "ExecuteTime": {
     "end_time": "2018-08-09T06:41:03.136236Z",
     "start_time": "2018-08-09T06:41:03.123235Z"
    }
   },
   "outputs": [],
   "source": [
    "# from enchant.checker import SpellChecker\n",
    "\n",
    "# chkr = SpellChecker(\"en_US\")\n",
    "# chkr.set_text(\"Many peope likee to watch In the Name of People.\")\n",
    "# for err in chkr:\n",
    "#     print(\"ERROR:\", err.word)"
   ]
  },
  {
   "cell_type": "markdown",
   "metadata": {
    "collapsed": true
   },
   "source": [
    "### Part-Of-Speech Tagging and POS Tagger(对词进行标注)\n",
    "- lemmatization在词性标注后效果比较好\n",
    "- 进行词性分析，去掉动词、助词等"
   ]
  },
  {
   "cell_type": "code",
   "execution_count": 35,
   "metadata": {
    "ExecuteTime": {
     "end_time": "2018-08-09T06:44:30.519097Z",
     "start_time": "2018-08-09T06:44:30.497096Z"
    }
   },
   "outputs": [
    {
     "name": "stdout",
     "output_type": "stream",
     "text": [
      "-- 1  Despite US Warning, Turkey Has No Plans to Abandon S-400 Deal With Russia – MP - Sputnik International.\n",
      "-- 2  ['Despite', 'US', 'Warning', ',', 'Turkey', 'Has', 'No', 'Plans', 'to', 'Abandon', 'S-400', 'Deal', 'With', 'Russia', '–', 'MP', '-', 'Sputnik', 'International', '.']\n",
      "-- 3  [('Despite', 'IN'), ('US', 'NNP'), ('Warning', 'NNP'), (',', ','), ('Turkey', 'NNP'), ('Has', 'NNP'), ('No', 'NNP'), ('Plans', 'NNPS'), ('to', 'TO'), ('Abandon', 'VB'), ('S-400', 'JJ'), ('Deal', 'NNP'), ('With', 'IN'), ('Russia', 'NNP'), ('–', 'NNP'), ('MP', 'NNP'), ('-', ':'), ('Sputnik', 'NNP'), ('International', 'NNP'), ('.', '.')]\n"
     ]
    }
   ],
   "source": [
    "from nltk.tokenize import word_tokenize\n",
    "from nltk import pos_tag  #tokens是句子分词后的结果，同样是句子级的标注\n",
    " \n",
    "print('-- 1 ', sent_tokenize_list[0])\n",
    "word_tokenize_list = word_tokenize(sent_tokenize_list[0])  \n",
    "print('-- 2 ', word_tokenize_list)   \n",
    "pos_tag = pos_tag(word_tokenize_list)  \n",
    "print('-- 3 ', pos_tag)  "
   ]
  },
  {
   "cell_type": "markdown",
   "metadata": {
    "collapsed": true
   },
   "source": [
    "### Stemming / Lemmatization 词干提取/词形还原\n",
    "- 先词形还原后词干提取，归一化不同词性的单词。仅词形还原可能会有复数还原不全的问题。\n",
    "- 词干提取(stemming)和词型还原(lemmatization)是英文文本预处理的特色。\n",
    "> - 两者其实有共同点，即都是要找到词的原始形式。\n",
    "> - 只不过词干提取(stemming)会更加激进一点，它在寻找词干的时候可以会得到不是词的词干。比如”imaging”的词干可能得到的是”imag”, 并不是一个词。而词形还原则保守一些，它一般只对能够还原成一个正确的词的词进行处理。个人比较喜欢使用词型还原而不是词干提取。"
   ]
  },
  {
   "cell_type": "markdown",
   "metadata": {
    "collapsed": true
   },
   "source": [
    "- 在nltk中，做词干提取的方法有PorterStemmer，LancasterStemmer和SnowballStemmer。\n",
    "- 个人推荐使用SnowballStemmer。这个类可以处理很多种语言，当然，除了中文。"
   ]
  },
  {
   "cell_type": "code",
   "execution_count": 36,
   "metadata": {
    "ExecuteTime": {
     "end_time": "2018-08-09T06:47:51.408588Z",
     "start_time": "2018-08-09T06:47:51.385586Z"
    }
   },
   "outputs": [
    {
     "data": {
      "text/plain": [
       "'countri'"
      ]
     },
     "execution_count": 36,
     "metadata": {},
     "output_type": "execute_result"
    }
   ],
   "source": [
    "from nltk.stem import SnowballStemmer\n",
    "\n",
    "stemmer = SnowballStemmer(\"english\") # Choose a language\n",
    "stemmer.stem(\"countries\") # Stem a word"
   ]
  },
  {
   "cell_type": "code",
   "execution_count": 38,
   "metadata": {
    "ExecuteTime": {
     "end_time": "2018-08-09T06:49:51.084433Z",
     "start_time": "2018-08-09T06:49:51.058431Z"
    }
   },
   "outputs": [
    {
     "name": "stdout",
     "output_type": "stream",
     "text": [
      "['The', 'cat', 'is', 'walking', 'in', 'the', 'bedroom', '.']\n",
      "['the', 'cat', 'is', 'walk', 'in', 'the', 'bedroom', '.']\n"
     ]
    }
   ],
   "source": [
    "import nltk  \n",
    "\n",
    "sent1='The cat is walking in the bedroom.'  \n",
    "sent2='A dog was running across the kitchen.'  \n",
    "tokens_1=nltk.word_tokenize(sent1)  \n",
    "print (tokens_1)  \n",
    "stemmer = nltk.stem.PorterStemmer()  \n",
    "stem_1 = [stemmer.stem(t) for t in tokens_1]  \n",
    "print(stem_1) "
   ]
  },
  {
   "cell_type": "markdown",
   "metadata": {},
   "source": [
    "- 如果是做词型还原，则一般可以使用WordNetLemmatizer类，即wordnet词形还原方法，Lemmatization 把一个任何形式的语言词汇还原为一般形式，标记词性的前提下效果比较好。\n",
    "- 在实际的英文文本挖掘预处理的时候，建议使用基于wordnet的词形还原就可以了。"
   ]
  },
  {
   "cell_type": "code",
   "execution_count": 37,
   "metadata": {
    "ExecuteTime": {
     "end_time": "2018-08-09T06:48:42.469508Z",
     "start_time": "2018-08-09T06:48:40.872417Z"
    }
   },
   "outputs": [
    {
     "name": "stdout",
     "output_type": "stream",
     "text": [
      "country\n"
     ]
    }
   ],
   "source": [
    "from nltk.stem import WordNetLemmatizer\n",
    "\n",
    "wnl = WordNetLemmatizer()\n",
    "print(wnl.lemmatize('countries'))  "
   ]
  },
  {
   "cell_type": "code",
   "execution_count": null,
   "metadata": {
    "collapsed": true
   },
   "outputs": [],
   "source": [
    "def get_wordnet_pos(treebank_tag):\n",
    "    if treebank_tag.startswith('J'):\n",
    "        return wordnet.ADJ\n",
    "    elif treebank_tag.startswith('V'):\n",
    "        return wordnet.VERB\n",
    "    elif treebank_tag.startswith('N'):\n",
    "        return wordnet.NOUN\n",
    "    elif treebank_tag.startswith('R'):\n",
    "        return wordnet.ADV\n",
    "    else:\n",
    "        return None\n",
    "\n",
    "def lemmatize_sentence(sentence):\n",
    "    res = []\n",
    "    lemmatizer = WordNetLemmatizer()\n",
    "    for word, pos in pos_tag(word_tokenize(sentence)):\n",
    "        wordnet_pos = get_wordnet_pos(pos) or wordnet.NOUN\n",
    "        res.append(lemmatizer.lemmatize(word, pos=wordnet_pos))\n",
    "    return res"
   ]
  },
  {
   "cell_type": "markdown",
   "metadata": {},
   "source": [
    "### Set All Characters to Lowercase 转化为小写\n",
    "- 由于英文单词有大小写之分，我们期望统计时像“Home”和“home”是一个词。因此一般需要将所有的词都转化为小写。这个直接用python的API（.lower()）就可以搞定。"
   ]
  },
  {
   "cell_type": "markdown",
   "metadata": {},
   "source": [
    "### Remove Stop Words 去除停用词"
   ]
  },
  {
   "cell_type": "code",
   "execution_count": 43,
   "metadata": {
    "ExecuteTime": {
     "end_time": "2018-08-09T06:58:05.869733Z",
     "start_time": "2018-08-09T06:58:05.840731Z"
    }
   },
   "outputs": [
    {
     "name": "stdout",
     "output_type": "stream",
     "text": [
      "-- 1  Despite US Warning, Turkey Has No Plans to Abandon S-400 Deal With Russia – MP - Sputnik International.\n",
      "-- 2  ['Despite', 'US', 'Warning', ',', 'Turkey', 'Has', 'No', 'Plans', 'to', 'Abandon', 'S-400', 'Deal', 'With', 'Russia', '–', 'MP', '-', 'Sputnik', 'International', '.']\n",
      "127\n",
      "['Despite', 'US', 'Warning', ',', 'Turkey', 'Has', 'No', 'Plans', 'Abandon', 'S-400', 'Deal', 'With', 'Russia', '–', 'MP', '-', 'Sputnik', 'International', '.']\n"
     ]
    }
   ],
   "source": [
    "from nltk.corpus import stopwords   #去停用词\n",
    "\n",
    "print('-- 1 ', sent_tokenize_list[0])\n",
    "word_tokenize_list = word_tokenize(sent_tokenize_list[0])  \n",
    "print('-- 2 ', word_tokenize_list)  \n",
    "\n",
    "cachedStopWords = stopwords.words(\"english\")\n",
    "print(len(cachedStopWords))\n",
    "\n",
    "filtered = [w for w in word_tokenize_list if (w not in cachedStopWords)]    \n",
    "print(filtered)    "
   ]
  },
  {
   "cell_type": "code",
   "execution_count": 41,
   "metadata": {
    "ExecuteTime": {
     "end_time": "2018-08-09T06:56:39.312782Z",
     "start_time": "2018-08-09T06:56:39.293781Z"
    }
   },
   "outputs": [
    {
     "data": {
      "text/plain": [
       "127"
      ]
     },
     "execution_count": 41,
     "metadata": {},
     "output_type": "execute_result"
    }
   ],
   "source": []
  },
  {
   "cell_type": "markdown",
   "metadata": {},
   "source": [
    "## 合并步骤"
   ]
  },
  {
   "cell_type": "code",
   "execution_count": 56,
   "metadata": {
    "ExecuteTime": {
     "end_time": "2018-08-09T08:56:30.282082Z",
     "start_time": "2018-08-09T08:56:30.272081Z"
    },
    "collapsed": true
   },
   "outputs": [],
   "source": [
    "import nltk\n",
    "from nltk.stem import WordNetLemmatizer\n",
    "from string import digits\n",
    "import re\n",
    "\n",
    "stopwords = {}\n",
    "stw = open(\"corpus/stopwords.txt\", encoding='UTF-8')\n",
    "for ws in stw:\n",
    "    ws = ws.replace(\"\\n\", \"\")\n",
    "    ws = ws.replace(\"\\r\", \"\")\n",
    "    stopwords[ws] = 1\n",
    "stw.close()"
   ]
  },
  {
   "cell_type": "code",
   "execution_count": 57,
   "metadata": {
    "ExecuteTime": {
     "end_time": "2018-08-09T08:56:31.037125Z",
     "start_time": "2018-08-09T08:56:31.030125Z"
    },
    "collapsed": true
   },
   "outputs": [],
   "source": [
    "def handle_contents(l_contents):\n",
    "    lines = []\n",
    "    for line in l_contents:\n",
    "        lines.append(handle_content(line))\n",
    "    return lines    "
   ]
  },
  {
   "cell_type": "code",
   "execution_count": 78,
   "metadata": {
    "ExecuteTime": {
     "end_time": "2018-08-09T09:04:31.612612Z",
     "start_time": "2018-08-09T09:04:31.574610Z"
    },
    "collapsed": true
   },
   "outputs": [],
   "source": [
    "def handle_content(content):\n",
    "    content = str(content)\n",
    "    raw = content.strip()\n",
    "    line = \"\"\n",
    "    if raw != \"\":       \n",
    "        # 1 清理字符串\n",
    "        content = clean_sent(content)\n",
    "\n",
    "        # 2 分句\n",
    "        sent_tokenize_list = nltk.sent_tokenize(content)\n",
    "        \n",
    "        # 3 清理句子\n",
    "        clean_sent_list = [clean_sent(sent) for sent in sent_tokenize_list]\n",
    "        \n",
    "        # 4 分词 \n",
    "        # 去掉长度小于3、去掉数字、去掉标点符号/去掉 non-alpha 词\n",
    "        word_tokenize_list = []\n",
    "        for sent in clean_sent_list:\n",
    "            word_t_l = filter(lambda x: len(x) > 3, map(clean_word, nltk.word_tokenize(sent)))\n",
    "            word_tokenize_list += list(word_t_l)\n",
    "        \n",
    "        # 5 清理词\n",
    "        # 去掉停用词、，小写化\n",
    "        word_list = [word.lower() for word in word_tokenize_list if word.lower() not in stopwords]\n",
    "        \n",
    "        # 6 词形还原\n",
    "        wnl = WordNetLemmatizer()\n",
    "        word_list = [wnl.lemmatize(word) for word in word_list]\n",
    "\n",
    "        line = \" \".join(word_list)\n",
    "    return line"
   ]
  },
  {
   "cell_type": "code",
   "execution_count": 81,
   "metadata": {
    "ExecuteTime": {
     "end_time": "2018-08-09T09:06:22.005926Z",
     "start_time": "2018-08-09T09:06:21.982925Z"
    },
    "collapsed": true
   },
   "outputs": [],
   "source": [
    "def clean_sent(sent):\n",
    "    sent = sent.replace(\"\\n\", \" \").replace('\\r',' ').replace('\\r\\n',' ')\n",
    "    sent = sent.replace('\\t', ' ').replace('\\xa0', ' ')\n",
    "    reobj = re.compile('//@(.*?)[:\\s]')\n",
    "    sent = reobj.sub(\"\", sent)\n",
    "    reobj = re.compile(\"@(.*?)[:\\s]\")\n",
    "    sent = reobj.sub(\"\", sent)\n",
    "    reobj = re.compile(r\"\\[[^\\[\\]]*?\\]\")\n",
    "    sent = reobj.sub(\"\", sent)\n",
    "\n",
    "    sent = sent.replace(\"，\", \",\")\n",
    "    sent = sent.replace(\"。\", \".\")\n",
    "    sent = sent.replace(\"！\", \"!\")\n",
    "    sent = sent.replace(\"？\", \"?\")\n",
    "    reobj = re.compile(\"//(.*?)[:\\s]\")\n",
    "    sent = reobj.sub(\"\", sent)\n",
    "    return sent"
   ]
  },
  {
   "cell_type": "code",
   "execution_count": 60,
   "metadata": {
    "ExecuteTime": {
     "end_time": "2018-08-09T08:56:34.101300Z",
     "start_time": "2018-08-09T08:56:34.094300Z"
    },
    "collapsed": true
   },
   "outputs": [],
   "source": [
    "def clean_word(s):  \n",
    "    # 去除标点和特殊字符、数字、汉字\n",
    "    regex = re.compile(r\"[^a-zA-Z]\")\n",
    "    s = regex.sub('', s)\n",
    "    \n",
    "    # 去除字符串中的数字 s = 'abc123def456ghi789zero0'\n",
    "    remove_digits = str.maketrans('', '', digits)\n",
    "    res = s.translate(remove_digits)\n",
    "    return res"
   ]
  },
  {
   "cell_type": "code",
   "execution_count": 80,
   "metadata": {
    "ExecuteTime": {
     "end_time": "2018-08-09T09:05:23.259566Z",
     "start_time": "2018-08-09T09:05:23.253566Z"
    }
   },
   "outputs": [
    {
     "data": {
      "text/plain": [
       "['Recai Berber, member of\\xa0Turkish parliament from\\xa0the ruling Justice and Development Party and chairman of\\xa0the parliamentary Turkish-Russian Friendship Group, has recalled that Ankara decided to\\xa0purchase the S-400 systems after\\xa0holding talks and reaching relevant agreements with\\xa0all its allies.\\n\"Consequently, we know that this decision cannot contradict our membership in NATO and allied relations with\\xa0the United States. Within the framework of\\xa0the agreement on\\xa0S-400, it is also a matter of\\xa0technology exchange between\\xa0Russia and Turkey. So NATO allies opposing it is out\\xa0of the question,\" Berber said.\\n\\n                        ©\\n                    Sputnik/ Alexey MalgavkoUS May Sanction Turkey Following Purchase of Russian S-400 Systems - ReportsHe pointed to \"contradictory messages to\\xa0the public \" issued by\\xa0the US State Department, the Pentagon and the US President, which he said led to\\xa0the situation when \"neither we nor the international community can understand which of\\xa0the messages reflects the true will of\\xa0the US Administration.\"\\nAccording to\\xa0him, the State Department’s statement was made without\\xa0any consultations given that positions on\\xa0the matter \"have already been clearly defined by\\xa0Turkey and NATO.\"\\n\"We have no doubt about\\xa0the purchase of\\xa0the S-400. Turkey adopted a relevant decision and clinched an agreement to\\xa0further develop the entire subsequent process. Such a statement by\\xa0the US State Department does not oblige Turkey to\\xa0anything,\" Berber emphasized.\\nHe was echoed by\\xa0Beyazıt Karatas, retired Major-General of\\xa0the Turkish Air Force, who specifically cited Ankara’s current \"sharp anti-American stance.\"\\n\"The US has repeatedly put obstacles to\\xa0Turkey’s attempts to\\xa0purchase long-range air defense systems. However, taking a decision on\\xa0the S-400, due to\\xa0be used separately from\\xa0NATO to\\xa0provide Turkey’s national security, Ankara made a meticulous long-term assessment of\\xa0the situation,\" Karatas noted.\\nHe recalled that the US continues to\\xa0exert all sorts of\\xa0pressure on\\xa0Turkey in\\xa0order to\\xa0prevent it from\\xa0purchasing the S-400 systems. According to\\xa0him, the main question is \"what steps the US will take regarding Ankara’s purchase of\\xa0these systems from\\xa0Russia.\"\\nREAD MORE: What’s Behind NATO’s Decision to\\xa0Accept Turkey’s Russian S-400 Purchase\\nCiting \"the political and military situation\", Karatas suggested that the US will be unable to\\xa0keep Turkey from\\xa0buying the S-400.\\n\"The US has lost support in\\xa0Turkey, both politically and socially, as\\xa085 percent of\\xa0the Turkish public supports the anti-American and anti-NATO stance. I believe that amid the ongoing Afrin military operation and Ankara’s further actions in\\xa0Syria as\\xa0part of\\xa0anti-terror fight, Turkey will not change its decision on\\xa0the purchase of\\xa0the S-400,\" he concluded.\\n\\n                        ©\\n                    REUTERS/ Mahmoud HebboAfrin Tensions: US Warns Turkey Against Actions on Syrian Kurds as Ankara Insists on Right to Self-DefenseEarlier this week, the US State Department threatened to\\xa0slap \"appropriate measures\" against\\xa0those countries which are willing to\\xa0agree with\\xa0Russia on\\xa0buying the S-400 systems.\\nIn September 2017, Moscow and Ankara clinched a deal on\\xa0the delivery of\\xa0the S-400 surface-to-air missile systems to\\xa0Turkey. Later that month, Russian presidential aide Vladimir Kozhin confirmed Turkey’s up-front payment for\\xa0the S-400s, saying that the delivery is scheduled for\\xa02019.\\nThe agreement caused uproar in\\xa0Washington, prompting Turkish President Recep Tayyip Erdogan to\\xa0underscore that his country was free to\\xa0make independent decisions about\\xa0its national security.\\nThe views and opinions expressed by\\xa0Recai Berber and Beyazıt Karatas are those of\\xa0the speakers and do not necessarily reflect Sputnik’s position.',\n",
       " 'MOSCOW (AFP) - Moscow on Saturday (Feb 3) denounced the \"bellicose\" and \"anti-Russian\" nature of new US nuclear policy, warning it would take necessary measures to ensure its own security.\\n\"The bellicose and anti-Russian nature of this document is obvious,\" the foreign ministry said in a statement, adding that it was \"deeply disappointed\".\\nThe Pentagon on Friday revealed plans to revamp its nuclear arsenal, largely in response to Russian actions in recent years.\\nThe so-called Nuclear Posture Review, released on Friday, outlines the Pentagon’s nuclear ambitions under President Donald Trump and is the first time since 2010 that the military has spelled out how it foresees nuclear threats in the coming decades.\\nWhile the document underscores the administration’s concerns about North Korea, Iran and China, the focus falls largely on Russia.\\n\"This is a response to Russian expansion of their capability and the nature of their strategy and doctrine,\" Defence Secretary James Mattis wrote in the introduction to the 75-page document.\\n\"These developments, coupled with Russia’s seizure of Crimea and nuclear threats against our allies, mark Moscow’s decided return to Great Power competition,\" he also wrote.\\nThe Pentagon worries Russia assumes America’s regular, large-yield weapons are essentially too big to ever be detonated, as their use would likely result in large-scale retaliation and wipe much of humanity off the map.\\n\"There are strong indications that our current strategy posture and capabilities are perceived by the Russians as potentially inadequate to deter them,\" Mr Greg Weaver, the deputy director of strategic capabilities for the military’s Joint Staff, told reporters.\\n\"The US and Nato require a wider range of credible low-yield nuclear options to do a very specific thing: to convince the Russian leadership that if they initiate limited nuclear use, in a war with the alliance, our response will deny them the objective they seek and impose costs that far outweigh those benefits they can achieve,\" he added.\\nThe document, an earlier version of which was leaked last month, says that by having more, smaller nukes the Pentagon can counter adversaries’ \"misperceptions\" that the United States would not respond to another country using its own low-yield bomb.']"
      ]
     },
     "execution_count": 80,
     "metadata": {},
     "output_type": "execute_result"
    }
   ],
   "source": [
    "cor_data[:2]"
   ]
  },
  {
   "cell_type": "code",
   "execution_count": 82,
   "metadata": {
    "ExecuteTime": {
     "end_time": "2018-08-09T09:06:28.117276Z",
     "start_time": "2018-08-09T09:06:28.092275Z"
    }
   },
   "outputs": [
    {
     "data": {
      "text/plain": [
       "['recai berber turkish parliament ruling justice development party chairman parliamentary turkishrussian friendship recalled ankara decided purchase system holding talk reaching relevant agreement ally decision contradict membership nato allied relation united framework agreement matter technology exchange russia turkey nato ally opposing question berber sputnik alexey malgavkous sanction turkey purchase russian system reportshe contradictory message public issued department pentagon president situation international community understand message reflects true administration department statement consultation position matter defined turkey nato doubt purchase turkey relevant decision clinched agreement develop entire subsequent process statement department oblige turkey berber emphasized echoed beyazt karatas retired majorgeneral turkish force cited ankara current sharp antiamerican stance repeatedly obstacle turkey attempt purchase longrange defense system decision separately nato provide turkey national security ankara meticulous longterm assessment situation karatas recalled continues exert sort pressure turkey prevent purchasing system main question step ankara purchase system russia read nato decision accept turkey russian purchase citing political military situation karatas suggested unable turkey buying lost support turkey politically socially percent turkish public support antiamerican antinato stance amid ongoing afrin military operation ankara action syria antiterror fight turkey change decision purchase concluded reuters mahmoud hebboafrin tension warns turkey action syrian kurd ankara insists selfdefenseearlier week department threatened slap measure country agree russia buying system september moscow ankara clinched deal delivery surfacetoair missile system turkey month russian presidential aide vladimir kozhin confirmed turkey upfront payment delivery scheduled agreement caused uproar washington prompting turkish president recep tayyip erdogan underscore country free independent decision national security view opinion expressed recai berber beyazt karatas speaker reflect sputnik position',\n",
       " 'moscow moscow saturday denounced bellicose antirussian nature nuclear policy warning measure ensure security bellicose antirussian nature document obvious foreign ministry statement adding deeply disappointed pentagon friday revealed plan revamp nuclear arsenal response russian action socalled nuclear posture review released friday outline pentagon nuclear ambition president donald trump time military spelled foresees nuclear threat coming decade document underscore administration concern north korea iran china focus fall russia response russian expansion capability nature strategy doctrine defence secretary james mattis wrote introduction document development coupled russia seizure crimea nuclear threat ally mark moscow decided return power competition wrote pentagon worry russia assumes america regular largeyield weapon essentially detonated result largescale retaliation wipe humanity strong indication current strategy posture capability perceived russian inadequate deter greg weaver deputy director strategic capability military joint staff told reporter nato require wider range credible lowyield nuclear option specific convince russian leadership initiate limited nuclear alliance response deny objective seek impose cost outweigh benefit achieve document earlier version leaked month nuke pentagon counter adversary misperceptions united respond country lowyield bomb']"
      ]
     },
     "execution_count": 82,
     "metadata": {},
     "output_type": "execute_result"
    }
   ],
   "source": [
    "handle_contents(cor_data[:2])"
   ]
  },
  {
   "cell_type": "code",
   "execution_count": 83,
   "metadata": {
    "ExecuteTime": {
     "end_time": "2018-08-09T09:11:23.579175Z",
     "start_time": "2018-08-09T09:10:30.414135Z"
    }
   },
   "outputs": [
    {
     "name": "stdout",
     "output_type": "stream",
     "text": [
      "5776\n",
      "data/20180808/corpus_pre_cor_0809.txt\n"
     ]
    }
   ],
   "source": [
    "# 相关数据\n",
    "cor_data = cor_data_raw['content'].tolist()\n",
    "print(len(cor_data))\n",
    "corpus_cor = handle_contents(cor_data)\n",
    "\n",
    "save_filename = 'data/{0}/corpus_pre_cor_0809.txt'.format(folder)\n",
    "print(save_filename)\n",
    "fid = open(save_filename, \"w+\", encoding='UTF-8')\n",
    "for data in corpus_cor:\n",
    "    fid.write(data + '\\n')\n",
    "fid.close()"
   ]
  },
  {
   "cell_type": "code",
   "execution_count": 74,
   "metadata": {
    "ExecuteTime": {
     "end_time": "2018-07-03T06:49:18.621632Z",
     "start_time": "2018-07-03T06:47:52.405087Z"
    }
   },
   "outputs": [
    {
     "name": "stdout",
     "output_type": "stream",
     "text": [
      "8949\n",
      "data/20180703/corpus_pre_uncor_0703.txt\n"
     ]
    }
   ],
   "source": [
    "# 不相关数据\n",
    "uncor_data = uncor_data_raw['content'].tolist()\n",
    "print(len(uncor_data))\n",
    "corpus_uncor = handle_contents(uncor_data)\n",
    "\n",
    "save_filename = 'data/{0}/corpus_pre_uncor_0809.txt'.format(folder)\n",
    "print(save_filename)\n",
    "fid = open(save_filename, \"w+\", encoding='UTF-8')\n",
    "for data in corpus_uncor:\n",
    "    fid.write(data + '\\n')\n",
    "fid.close()"
   ]
  },
  {
   "cell_type": "markdown",
   "metadata": {
    "collapsed": true
   },
   "source": [
    "# 保存本文件"
   ]
  },
  {
   "cell_type": "code",
   "execution_count": 70,
   "metadata": {
    "ExecuteTime": {
     "end_time": "2018-06-27T08:59:12.287167Z",
     "start_time": "2018-06-27T08:59:12.234164Z"
    },
    "collapsed": true
   },
   "outputs": [],
   "source": [
    "if 0:\n",
    "    import datetime as dt\n",
    "    \n",
    "    def output_HTML(read_file, output_file):\n",
    "        from nbconvert import HTMLExporter\n",
    "        import codecs\n",
    "        import nbformat\n",
    "        exporter = HTMLExporter()\n",
    "        # read_file is '.ipynb', output_file is '.html'\n",
    "        output_notebook = nbformat.read(read_file, as_version=4)\n",
    "        output, resources = exporter.from_notebook_node(output_notebook)\n",
    "        codecs.open(output_file, 'w', encoding='utf-8').write(output)\n",
    "\n",
    "    html_file_folder = 'html_files'\n",
    "    if not os.path.exists(html_file_folder):\n",
    "        os.makedirs(html_file_folder)\n",
    "\n",
    "    today = dt.datetime.now().strftime('%Y%m%d')\n",
    "    current_file = 'circ_cor_model_1_pre.ipynb'\n",
    "    output_file = 'html_files\\%s_%s.html'%(os.path.splitext(current_file)[0], today)\n",
    "    output_HTML(current_file, output_file)"
   ]
  }
 ],
 "metadata": {
  "kernelspec": {
   "display_name": "Python 3",
   "language": "python",
   "name": "python3"
  },
  "language_info": {
   "codemirror_mode": {
    "name": "ipython",
    "version": 3
   },
   "file_extension": ".py",
   "mimetype": "text/x-python",
   "name": "python",
   "nbconvert_exporter": "python",
   "pygments_lexer": "ipython3",
   "version": "3.6.3"
  },
  "toc": {
   "nav_menu": {},
   "number_sections": true,
   "sideBar": true,
   "skip_h1_title": false,
   "title_cell": "Table of Contents",
   "title_sidebar": "Contents",
   "toc_cell": false,
   "toc_position": {
    "height": "calc(100% - 180px)",
    "left": "10px",
    "top": "150px",
    "width": "376px"
   },
   "toc_section_display": true,
   "toc_window_display": true
  },
  "varInspector": {
   "cols": {
    "lenName": 16,
    "lenType": 16,
    "lenVar": 40
   },
   "kernels_config": {
    "python": {
     "delete_cmd_postfix": "",
     "delete_cmd_prefix": "del ",
     "library": "var_list.py",
     "varRefreshCmd": "print(var_dic_list())"
    },
    "r": {
     "delete_cmd_postfix": ") ",
     "delete_cmd_prefix": "rm(",
     "library": "var_list.r",
     "varRefreshCmd": "cat(var_dic_list()) "
    }
   },
   "types_to_exclude": [
    "module",
    "function",
    "builtin_function_or_method",
    "instance",
    "_Feature"
   ],
   "window_display": false
  }
 },
 "nbformat": 4,
 "nbformat_minor": 2
}
